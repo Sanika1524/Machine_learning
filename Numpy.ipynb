{
  "nbformat": 4,
  "nbformat_minor": 0,
  "metadata": {
    "colab": {
      "provenance": []
    },
    "kernelspec": {
      "name": "python3",
      "display_name": "Python 3"
    },
    "language_info": {
      "name": "python"
    }
  },
  "cells": [
    {
      "cell_type": "code",
      "execution_count": 57,
      "metadata": {
        "id": "saJBoyr0WV40"
      },
      "outputs": [],
      "source": [
        "import numpy as np"
      ]
    },
    {
      "cell_type": "markdown",
      "source": [
        "#BASIC OPERATION"
      ],
      "metadata": {
        "id": "B6XyIggh5LOA"
      }
    },
    {
      "cell_type": "code",
      "source": [
        "array_1d = ([1,2,3,4,5])\n",
        "array_2d = ([[1,2,3,4,5],[2,3,4,5,6]])\n",
        "array_3d = ([[[1,2,3,4,5],[2,3,4,5,6],[3,4,5,6,7]]])"
      ],
      "metadata": {
        "id": "bIOcqYIQWauk"
      },
      "execution_count": 58,
      "outputs": []
    },
    {
      "cell_type": "code",
      "source": [
        "print('1-D array')\n",
        "print(array_1d)\n",
        "print('2-D array')\n",
        "print(array_2d)\n",
        "print('3-D array')\n",
        "print(array_3d)\n"
      ],
      "metadata": {
        "colab": {
          "base_uri": "https://localhost:8080/"
        },
        "id": "2XxR8rKEWnZj",
        "outputId": "9d0e27f8-92e2-45ec-ffc9-65dbeb1a7903"
      },
      "execution_count": 59,
      "outputs": [
        {
          "output_type": "stream",
          "name": "stdout",
          "text": [
            "1-D array\n",
            "[1, 2, 3, 4, 5]\n",
            "2-D array\n",
            "[[1, 2, 3, 4, 5], [2, 3, 4, 5, 6]]\n",
            "3-D array\n",
            "[[[1, 2, 3, 4, 5], [2, 3, 4, 5, 6], [3, 4, 5, 6, 7]]]\n"
          ]
        }
      ]
    },
    {
      "cell_type": "markdown",
      "source": [
        "Numpy.arange - This method creates an array with incrementing values. This function takes some parameters like start number, end number, incrementing step value, and datatype."
      ],
      "metadata": {
        "id": "kRanZI6IXOly"
      }
    },
    {
      "cell_type": "code",
      "source": [
        "array1 = np.arange(6)\n",
        "print(array1)"
      ],
      "metadata": {
        "colab": {
          "base_uri": "https://localhost:8080/"
        },
        "id": "Ir32GKJcXDV9",
        "outputId": "2126205b-86b9-4a2f-f98a-e900b73fd6cf"
      },
      "execution_count": 60,
      "outputs": [
        {
          "output_type": "stream",
          "name": "stdout",
          "text": [
            "[0 1 2 3 4 5]\n"
          ]
        }
      ]
    },
    {
      "cell_type": "code",
      "source": [
        "#creating an array with 2 unit difference between integers the given array starts from 4 and ends on 16\n",
        "array2 = np.arange(4,16,2)\n",
        "print(array2)"
      ],
      "metadata": {
        "colab": {
          "base_uri": "https://localhost:8080/"
        },
        "id": "XZAX6sbXXXEC",
        "outputId": "1627151c-313f-44e9-febc-80ce7f25b43e"
      },
      "execution_count": 61,
      "outputs": [
        {
          "output_type": "stream",
          "name": "stdout",
          "text": [
            "[ 4  6  8 10 12 14]\n"
          ]
        }
      ]
    },
    {
      "cell_type": "code",
      "source": [
        "#creating an array of float datatype numbers\n",
        "array3 = np.arange(4.2,5,0.2,dtype=float)\n",
        "print(array3)"
      ],
      "metadata": {
        "colab": {
          "base_uri": "https://localhost:8080/"
        },
        "id": "zMMXKm7xXfpc",
        "outputId": "11b44989-100a-4ae5-9d82-c996cf6bf2b4"
      },
      "execution_count": 62,
      "outputs": [
        {
          "output_type": "stream",
          "name": "stdout",
          "text": [
            "[4.2 4.4 4.6 4.8]\n"
          ]
        }
      ]
    },
    {
      "cell_type": "markdown",
      "source": [
        "Numpy.eye - We use the eye method to create 2-Dimensional arrays in python. The parameters in this function are the rows and the columns of the matrix. The elements where row and column index are identical (i.e., i=j) are 1, and the rest are 0."
      ],
      "metadata": {
        "id": "c9VAtPY7XxHb"
      }
    },
    {
      "cell_type": "code",
      "source": [
        "#creating a 2-D array of 3x3 shape if we give only one parameter, it constructs a square matrix of the given length\n",
        "array4 = np.eye(3)\n",
        "print(array4)"
      ],
      "metadata": {
        "colab": {
          "base_uri": "https://localhost:8080/"
        },
        "id": "hABSGK22Xs-4",
        "outputId": "15434be8-7c1a-49d5-a88e-2cf534ead71b"
      },
      "execution_count": 63,
      "outputs": [
        {
          "output_type": "stream",
          "name": "stdout",
          "text": [
            "[[1. 0. 0.]\n",
            " [0. 1. 0.]\n",
            " [0. 0. 1.]]\n"
          ]
        }
      ]
    },
    {
      "cell_type": "code",
      "source": [
        "#creating a 2-D array with four rows and six columns\n",
        "array5 = np.eye(4,6)\n",
        "print(array5)"
      ],
      "metadata": {
        "colab": {
          "base_uri": "https://localhost:8080/"
        },
        "id": "j2UaZKdRX7H1",
        "outputId": "e2cb6499-2c72-45c0-f510-b069210db018"
      },
      "execution_count": 64,
      "outputs": [
        {
          "output_type": "stream",
          "name": "stdout",
          "text": [
            "[[1. 0. 0. 0. 0. 0.]\n",
            " [0. 1. 0. 0. 0. 0.]\n",
            " [0. 0. 1. 0. 0. 0.]\n",
            " [0. 0. 0. 1. 0. 0.]]\n"
          ]
        }
      ]
    },
    {
      "cell_type": "markdown",
      "source": [
        "Numpy.diag - To create a matrix with the elements along the diagonal, we use the diag function from the Numpy Library."
      ],
      "metadata": {
        "id": "a9yPnpvGYNFb"
      }
    },
    {
      "cell_type": "code",
      "source": [
        "#The given elements will be filled in the main diagonal of the matrix\n",
        "array1 = np.diag([4, 5, 6, 7])\n",
        "print(array1)\n",
        "\n",
        "# The given elements will be filled in the second right diagonal of the matrix\n",
        "array2 = np.diag([4, 5, 6], 2)\n",
        "print(array2)"
      ],
      "metadata": {
        "colab": {
          "base_uri": "https://localhost:8080/"
        },
        "id": "le7xC-o9YI6L",
        "outputId": "94976807-964c-4716-a07e-1cae6f46b4cf"
      },
      "execution_count": 65,
      "outputs": [
        {
          "output_type": "stream",
          "name": "stdout",
          "text": [
            "[[4 0 0 0]\n",
            " [0 5 0 0]\n",
            " [0 0 6 0]\n",
            " [0 0 0 7]]\n",
            "[[0 0 4 0 0]\n",
            " [0 0 0 5 0]\n",
            " [0 0 0 0 6]\n",
            " [0 0 0 0 0]\n",
            " [0 0 0 0 0]]\n"
          ]
        }
      ]
    },
    {
      "cell_type": "code",
      "source": [
        "# The array3 will contain the diagonal elements of the given matrix\n",
        "array3 = np.diag(np.array([[1,2], [3,4]]))\n",
        "print(array3)"
      ],
      "metadata": {
        "colab": {
          "base_uri": "https://localhost:8080/"
        },
        "id": "PgZbLDddYU_2",
        "outputId": "c55ae80c-53f5-45e9-9d9e-0d7a252f351b"
      },
      "execution_count": 66,
      "outputs": [
        {
          "output_type": "stream",
          "name": "stdout",
          "text": [
            "[1 4]\n"
          ]
        }
      ]
    },
    {
      "cell_type": "code",
      "source": [
        "#ndim - get dimension of array\n",
        "print(array1.ndim)"
      ],
      "metadata": {
        "id": "o_xHcyQOYdzq",
        "colab": {
          "base_uri": "https://localhost:8080/"
        },
        "outputId": "e585d04e-e77d-4bb4-bffd-dc73b06f4c07"
      },
      "execution_count": 67,
      "outputs": [
        {
          "output_type": "stream",
          "name": "stdout",
          "text": [
            "2\n"
          ]
        }
      ]
    },
    {
      "cell_type": "code",
      "source": [
        "# shape - number of elements stored in each dimension.\n",
        "print(array1.shape)"
      ],
      "metadata": {
        "colab": {
          "base_uri": "https://localhost:8080/"
        },
        "id": "35Mdq2wV3Z5a",
        "outputId": "f3ac4204-42da-4306-de4a-ccc6d1e46e20"
      },
      "execution_count": 68,
      "outputs": [
        {
          "output_type": "stream",
          "name": "stdout",
          "text": [
            "(4, 4)\n"
          ]
        }
      ]
    },
    {
      "cell_type": "code",
      "source": [
        "# size - total number of elements stored in the array.\n",
        "print(array1.size)"
      ],
      "metadata": {
        "colab": {
          "base_uri": "https://localhost:8080/"
        },
        "id": "REuDVRTD3tsY",
        "outputId": "74a43333-00b0-47f9-bd33-275dca0315db"
      },
      "execution_count": 69,
      "outputs": [
        {
          "output_type": "stream",
          "name": "stdout",
          "text": [
            "16\n"
          ]
        }
      ]
    },
    {
      "cell_type": "code",
      "source": [
        "#sorting elements in an array\n",
        "#1-D array\n",
        "array1 = np.array([12, 1, 60, 8, 100, 16])\n",
        "sorted_array1 = np.sort(array1)\n",
        "print(\"Sorted Array:\\n\", sorted_array1)"
      ],
      "metadata": {
        "colab": {
          "base_uri": "https://localhost:8080/"
        },
        "id": "V2VNNg5830JP",
        "outputId": "dbe1ef68-1ef4-49b9-9bff-4b7395025d94"
      },
      "execution_count": 70,
      "outputs": [
        {
          "output_type": "stream",
          "name": "stdout",
          "text": [
            "Sorted Array:\n",
            " [  1   8  12  16  60 100]\n"
          ]
        }
      ]
    },
    {
      "cell_type": "code",
      "source": [
        "#2-D array\n",
        "array2 = np.array([[12, 4, 6], [1, 0, 34]])\n",
        "sorted_array2 = np.sort(array2, axis=0)\n",
        "print(\"Column Sorted 2-D Array:\\n\", sorted_array2, \"\\n\")\n",
        "\n",
        "sorted_array3 = np.sort(array2, axis=1)\n",
        "print(\"Row Sorted 2-D Array:\\n\", sorted_array3, \"\\n\")"
      ],
      "metadata": {
        "colab": {
          "base_uri": "https://localhost:8080/"
        },
        "id": "5_-78Jpb4A9-",
        "outputId": "5cb521fd-7d88-4439-83fd-62711741b56c"
      },
      "execution_count": 71,
      "outputs": [
        {
          "output_type": "stream",
          "name": "stdout",
          "text": [
            "Column Sorted 2-D Array:\n",
            " [[ 1  0  6]\n",
            " [12  4 34]] \n",
            "\n",
            "Row Sorted 2-D Array:\n",
            " [[ 4  6 12]\n",
            " [ 0  1 34]] \n",
            "\n"
          ]
        }
      ]
    },
    {
      "cell_type": "code",
      "source": [
        "#unique - get unique values from the array\n",
        "unique_array1 = np.unique(array1)\n",
        "print(unique_array1)"
      ],
      "metadata": {
        "colab": {
          "base_uri": "https://localhost:8080/"
        },
        "id": "2MDQ4CBM4MdD",
        "outputId": "c1b08120-54c1-4b46-bab0-2c15564924af"
      },
      "execution_count": 72,
      "outputs": [
        {
          "output_type": "stream",
          "name": "stdout",
          "text": [
            "[  1   8  12  16  60 100]\n"
          ]
        }
      ]
    },
    {
      "cell_type": "code",
      "source": [
        "# flip - to reverse an array\n",
        "array1 = np.array([12, 1, 60, 8, 100, 16])\n",
        "flipped_array1 = np.flip(array1)\n",
        "print(array1)\n",
        "print(flipped_array1)"
      ],
      "metadata": {
        "colab": {
          "base_uri": "https://localhost:8080/"
        },
        "id": "7tHUNA5w4jP6",
        "outputId": "f1141b6b-1885-4998-c850-e383870c50f3"
      },
      "execution_count": 73,
      "outputs": [
        {
          "output_type": "stream",
          "name": "stdout",
          "text": [
            "[ 12   1  60   8 100  16]\n",
            "[ 16 100   8  60   1  12]\n"
          ]
        }
      ]
    },
    {
      "cell_type": "code",
      "source": [
        "# reversing the rows of a two-dimensional array\n",
        "rev_rows_array2 = np.flip(array2, axis=0)\n",
        "print(\"Row reversed 2-D Matrix:\\n\", rev_rows_array2, \"\\n\")\n",
        "\n",
        "# reversing the columns of a two-dimensional array\n",
        "rev_cols_array2 = np.flip(array2, axis=1)\n",
        "print(\"Column reversed 2-D Matrix:\\n\", rev_cols_array2, \"\\n\")\n",
        "\n",
        "# reversing the entire content of the Matrix\n",
        "rev_array2 = np.flip(array2)\n",
        "print(\"Reversed 2-D Matrix:\\n\", rev_array2, \"\\n\")\n"
      ],
      "metadata": {
        "colab": {
          "base_uri": "https://localhost:8080/"
        },
        "id": "Swx4O-hc41c_",
        "outputId": "97dd7e1d-38d3-4859-d992-97b73023c5c7"
      },
      "execution_count": 74,
      "outputs": [
        {
          "output_type": "stream",
          "name": "stdout",
          "text": [
            "Row reversed 2-D Matrix:\n",
            " [[ 1  0 34]\n",
            " [12  4  6]] \n",
            "\n",
            "Column reversed 2-D Matrix:\n",
            " [[ 6  4 12]\n",
            " [34  0  1]] \n",
            "\n",
            "Reversed 2-D Matrix:\n",
            " [[34  0  1]\n",
            " [ 6  4 12]] \n",
            "\n"
          ]
        }
      ]
    },
    {
      "cell_type": "markdown",
      "source": [
        "#NUMPY DATATYPES"
      ],
      "metadata": {
        "id": "uuh-9MkP5O-X"
      }
    },
    {
      "cell_type": "code",
      "source": [
        "#creating array of integers\n",
        "array_int = np.array([10,20,30],dtype=int)\n",
        "print(array_int)"
      ],
      "metadata": {
        "colab": {
          "base_uri": "https://localhost:8080/"
        },
        "id": "9eDx12C6474U",
        "outputId": "e72e1743-f117-4874-e28b-de821193813c"
      },
      "execution_count": 75,
      "outputs": [
        {
          "output_type": "stream",
          "name": "stdout",
          "text": [
            "[10 20 30]\n"
          ]
        }
      ]
    },
    {
      "cell_type": "code",
      "source": [
        "#creating array of float\n",
        "array_float = np.array([3.14, 1.618, 2.718],dtype=float)\n",
        "print(array_float)"
      ],
      "metadata": {
        "colab": {
          "base_uri": "https://localhost:8080/"
        },
        "id": "Eg0la0X05idf",
        "outputId": "1278e788-4f11-4cc0-b462-59e0999e5e51"
      },
      "execution_count": 76,
      "outputs": [
        {
          "output_type": "stream",
          "name": "stdout",
          "text": [
            "[3.14  1.618 2.718]\n"
          ]
        }
      ]
    },
    {
      "cell_type": "code",
      "source": [
        "#creating array of complex number\n",
        "array_complex = np.array([1+2j, 3+4j, 5+6j],dtype=complex)\n",
        "print(array_complex)"
      ],
      "metadata": {
        "colab": {
          "base_uri": "https://localhost:8080/"
        },
        "id": "jcUEM0qM5nue",
        "outputId": "9b0ed0dc-c432-4944-9240-02bbbb128e30"
      },
      "execution_count": 77,
      "outputs": [
        {
          "output_type": "stream",
          "name": "stdout",
          "text": [
            "[1.+2.j 3.+4.j 5.+6.j]\n"
          ]
        }
      ]
    },
    {
      "cell_type": "code",
      "source": [
        "#creating array of boolean values\n",
        "array_bool = np.array([True, False, True],dtype=bool)\n",
        "print(array_bool)\n"
      ],
      "metadata": {
        "colab": {
          "base_uri": "https://localhost:8080/"
        },
        "id": "585aXMHP5z9_",
        "outputId": "da3f4dcc-9165-4563-ff5d-4fb62e70cd39"
      },
      "execution_count": 78,
      "outputs": [
        {
          "output_type": "stream",
          "name": "stdout",
          "text": [
            "[ True False  True]\n"
          ]
        }
      ]
    },
    {
      "cell_type": "code",
      "source": [
        "# Creating an array of half-precision floating-point numbers\n",
        "half_float_array = np.array([3.14159, 2.71828], dtype=np.float16)\n",
        "print(half_float_array)"
      ],
      "metadata": {
        "id": "cPS6LTWh57k_",
        "outputId": "173469f6-ec2b-42e3-96c8-e24cf8cdf371",
        "colab": {
          "base_uri": "https://localhost:8080/"
        }
      },
      "execution_count": 79,
      "outputs": [
        {
          "output_type": "stream",
          "name": "stdout",
          "text": [
            "[3.14  2.719]\n"
          ]
        }
      ]
    },
    {
      "cell_type": "code",
      "source": [
        "#arange - creates arrays with regularly incrementing values.\n",
        "np.arange(2,5,0.1)"
      ],
      "metadata": {
        "id": "jf1m11mW6BWu",
        "colab": {
          "base_uri": "https://localhost:8080/"
        },
        "outputId": "61e583b8-e272-48f9-b336-2c9930548df9"
      },
      "execution_count": 80,
      "outputs": [
        {
          "output_type": "execute_result",
          "data": {
            "text/plain": [
              "array([2. , 2.1, 2.2, 2.3, 2.4, 2.5, 2.6, 2.7, 2.8, 2.9, 3. , 3.1, 3.2,\n",
              "       3.3, 3.4, 3.5, 3.6, 3.7, 3.8, 3.9, 4. , 4.1, 4.2, 4.3, 4.4, 4.5,\n",
              "       4.6, 4.7, 4.8, 4.9])"
            ]
          },
          "metadata": {},
          "execution_count": 80
        }
      ]
    },
    {
      "cell_type": "code",
      "source": [
        "#linspace - create arrays with a specified number of elements, and spaced equally between the specified beginning and end values.\n",
        "np.linspace(0,10,5)"
      ],
      "metadata": {
        "colab": {
          "base_uri": "https://localhost:8080/"
        },
        "id": "r83zsIB2r0rA",
        "outputId": "b1714c21-108b-48c0-9f34-becf3cfc6968"
      },
      "execution_count": 81,
      "outputs": [
        {
          "output_type": "execute_result",
          "data": {
            "text/plain": [
              "array([ 0. ,  2.5,  5. ,  7.5, 10. ])"
            ]
          },
          "metadata": {},
          "execution_count": 81
        }
      ]
    },
    {
      "cell_type": "markdown",
      "source": [
        "#indexing and slicing"
      ],
      "metadata": {
        "id": "Nf03KpW8slUI"
      }
    },
    {
      "cell_type": "code",
      "source": [
        "a = np.arange(10)\n",
        "s = slice(2,7,2)\n",
        "print(a[s])"
      ],
      "metadata": {
        "colab": {
          "base_uri": "https://localhost:8080/"
        },
        "id": "CRr5TFzZsMjo",
        "outputId": "362dd63c-6e0d-48bd-8b5f-46c7536cec4d"
      },
      "execution_count": 82,
      "outputs": [
        {
          "output_type": "stream",
          "name": "stdout",
          "text": [
            "[2 4 6]\n"
          ]
        }
      ]
    },
    {
      "cell_type": "code",
      "source": [
        "# slice items starting from index\n",
        "import numpy as np\n",
        "a = np.arange(10)\n",
        "print (a[2:])"
      ],
      "metadata": {
        "colab": {
          "base_uri": "https://localhost:8080/"
        },
        "id": "v_QbQm7Xsw0S",
        "outputId": "5d3f27bf-e2f3-4fef-8bcc-ff153d9e3cee"
      },
      "execution_count": 83,
      "outputs": [
        {
          "output_type": "stream",
          "name": "stdout",
          "text": [
            "[2 3 4 5 6 7 8 9]\n"
          ]
        }
      ]
    },
    {
      "cell_type": "code",
      "source": [
        "# slice items between indexes\n",
        "import numpy as np\n",
        "a = np.arange(10)\n",
        "print (a[2:5])"
      ],
      "metadata": {
        "colab": {
          "base_uri": "https://localhost:8080/"
        },
        "id": "UVMzxeWNs5xe",
        "outputId": "b0263ba9-0a73-4c07-83a6-cfa32e94761c"
      },
      "execution_count": 84,
      "outputs": [
        {
          "output_type": "stream",
          "name": "stdout",
          "text": [
            "[2 3 4]\n"
          ]
        }
      ]
    },
    {
      "cell_type": "code",
      "source": [
        "a = np.array([[1,2,3],[3,4,5],[4,5,6]])\n",
        "\n",
        "print (a)\n",
        "print ('\\n')\n",
        "\n",
        "# this returns array of items in the second column\n",
        "print (a[...,1] )\n",
        "print ('\\n')\n",
        "\n",
        "# Now we will slice all items from the second row\n",
        "print (a[1,...] )\n",
        "print ('\\n')\n",
        "\n",
        "# Now we will slice all items from column 1 onwards\n",
        "print ('The items column 1 onwards are:')\n",
        "print (a[...,1:])"
      ],
      "metadata": {
        "colab": {
          "base_uri": "https://localhost:8080/"
        },
        "id": "ACdm6Efas-LG",
        "outputId": "dad8c6b5-e304-415b-a818-7683aa877c8e"
      },
      "execution_count": 85,
      "outputs": [
        {
          "output_type": "stream",
          "name": "stdout",
          "text": [
            "[[1 2 3]\n",
            " [3 4 5]\n",
            " [4 5 6]]\n",
            "\n",
            "\n",
            "[2 4 5]\n",
            "\n",
            "\n",
            "[3 4 5]\n",
            "\n",
            "\n",
            "The items column 1 onwards are:\n",
            "[[2 3]\n",
            " [4 5]\n",
            " [5 6]]\n"
          ]
        }
      ]
    },
    {
      "cell_type": "code",
      "source": [
        "originalarray = np.arange(12)\n",
        "print(\"Original array :\\n\", originalarray)\n",
        "\n",
        "# Reshaping array into 3 rows and 4 columns\n",
        "reshapedarray1 = np.arange(12).reshape(3, 4)\n",
        "print(\"\\nReshaped array with 3 rows and 4 columns :\\n\\n\",reshapedarray1)\n",
        "\n",
        "# Reshaping array into 4 rows and 3 columns\n",
        "reshapedarray2 = np.arange(12).reshape(4, 3)\n",
        "print(\"\\nReshaped array with 4 rows and 3 columns :\\n\",reshapedarray2)"
      ],
      "metadata": {
        "colab": {
          "base_uri": "https://localhost:8080/"
        },
        "id": "9a-0SAAztXwy",
        "outputId": "144aef74-2a88-4e16-9135-ed91f4760bfb"
      },
      "execution_count": 86,
      "outputs": [
        {
          "output_type": "stream",
          "name": "stdout",
          "text": [
            "Original array :\n",
            " [ 0  1  2  3  4  5  6  7  8  9 10 11]\n",
            "\n",
            "Reshaped array with 3 rows and 4 columns :\n",
            "\n",
            " [[ 0  1  2  3]\n",
            " [ 4  5  6  7]\n",
            " [ 8  9 10 11]]\n",
            "\n",
            "Reshaped array with 4 rows and 3 columns :\n",
            " [[ 0  1  2]\n",
            " [ 3  4  5]\n",
            " [ 6  7  8]\n",
            " [ 9 10 11]]\n"
          ]
        }
      ]
    },
    {
      "cell_type": "markdown",
      "source": [
        "#Iteration"
      ],
      "metadata": {
        "id": "CHqo8_cnuvR1"
      }
    },
    {
      "cell_type": "code",
      "source": [
        "# Create a 2-dimensional NumPy array\n",
        "arr_2d = np.array([[1, 2, 3],\n",
        "                   [4, 5, 6],\n",
        "                   [7, 8, 9]])\n",
        "\n",
        "# Iterating over elements in the 2D array\n",
        "# Iterate over rows\n",
        "for i in range(arr_2d.shape[0]):\n",
        "   # Iterate over columns\n",
        "   for j in range(arr_2d.shape[1]):\n",
        "      print(arr_2d[i, j])"
      ],
      "metadata": {
        "colab": {
          "base_uri": "https://localhost:8080/"
        },
        "id": "uPJy1Xznt2hy",
        "outputId": "10a262b0-e1d1-4696-81d0-7a81c2688a51"
      },
      "execution_count": 87,
      "outputs": [
        {
          "output_type": "stream",
          "name": "stdout",
          "text": [
            "1\n",
            "2\n",
            "3\n",
            "4\n",
            "5\n",
            "6\n",
            "7\n",
            "8\n",
            "9\n"
          ]
        }
      ]
    },
    {
      "cell_type": "code",
      "source": [
        "#efficient multidimensional iterator object that can be used to iterate over elements of arrays.\n",
        "arr = np.array([[1, 2], [3, 4]])\n",
        "\n",
        "# Iterate using nditer\n",
        "for x in np.nditer(arr):\n",
        "   print(x)"
      ],
      "metadata": {
        "colab": {
          "base_uri": "https://localhost:8080/"
        },
        "id": "9PytzjGSuQMV",
        "outputId": "5398d32d-def7-49f4-f425-91f41849bf73"
      },
      "execution_count": 88,
      "outputs": [
        {
          "output_type": "stream",
          "name": "stdout",
          "text": [
            "1\n",
            "2\n",
            "3\n",
            "4\n"
          ]
        }
      ]
    },
    {
      "cell_type": "code",
      "source": [
        "# arrays\n",
        "arr1 = np.array([1, 2, 3])\n",
        "arr2 = np.array([10, 20, 30])\n",
        "\n",
        "# Broadcasting addition operation\n",
        "print(\"Broadcasting Iteration:\")\n",
        "for x, y in np.nditer([arr1, arr2]):\n",
        "   print(x + y, end=' ')"
      ],
      "metadata": {
        "colab": {
          "base_uri": "https://localhost:8080/"
        },
        "id": "rs-yEz3EuXoL",
        "outputId": "59fdbcd3-2370-45fd-c8a5-7bdbfea25ac9"
      },
      "execution_count": 89,
      "outputs": [
        {
          "output_type": "stream",
          "name": "stdout",
          "text": [
            "Broadcasting Iteration:\n",
            "11 22 33 "
          ]
        }
      ]
    },
    {
      "cell_type": "markdown",
      "source": [
        "#String Operation"
      ],
      "metadata": {
        "id": "Zp5bQE6TuzB7"
      }
    },
    {
      "cell_type": "code",
      "source": [
        "s1 = np.array(['Hello','World'])\n",
        "s2 = np.array(['World','Bad'])\n",
        "\n",
        "ans = np.char.add(s1,s2)\n",
        "print(ans)"
      ],
      "metadata": {
        "colab": {
          "base_uri": "https://localhost:8080/"
        },
        "id": "w1Prfekxumf8",
        "outputId": "92554496-a7e0-4972-80ed-a177c8a45cb1"
      },
      "execution_count": 90,
      "outputs": [
        {
          "output_type": "stream",
          "name": "stdout",
          "text": [
            "['HelloWorld' 'WorldBad']\n"
          ]
        }
      ]
    },
    {
      "cell_type": "code",
      "source": [
        "string = np.array(['Wow'])\n",
        "ans = np.char.multiply(string,3)\n",
        "print(ans)"
      ],
      "metadata": {
        "colab": {
          "base_uri": "https://localhost:8080/"
        },
        "id": "amWO10w8vGNq",
        "outputId": "66a752d5-03e8-4b1b-9b36-38951e27ebc7"
      },
      "execution_count": 91,
      "outputs": [
        {
          "output_type": "stream",
          "name": "stdout",
          "text": [
            "['WowWowWow']\n"
          ]
        }
      ]
    },
    {
      "cell_type": "code",
      "source": [
        "string = np.array(['hello','World'])\n",
        "ans = np.char.capitalize(string)\n",
        "print(ans)"
      ],
      "metadata": {
        "colab": {
          "base_uri": "https://localhost:8080/"
        },
        "id": "f5TMK1syvYk9",
        "outputId": "b3c243d9-22f3-4b77-fcf1-b93cb549af3b"
      },
      "execution_count": 92,
      "outputs": [
        {
          "output_type": "stream",
          "name": "stdout",
          "text": [
            "['Hello' 'World']\n"
          ]
        }
      ]
    },
    {
      "cell_type": "code",
      "source": [
        "lower = np.char.lower(string)\n",
        "upper = np.char.upper(string)\n",
        "print(lower)\n",
        "print(upper)"
      ],
      "metadata": {
        "colab": {
          "base_uri": "https://localhost:8080/"
        },
        "id": "LTvtqgH3vixe",
        "outputId": "38c9fdcc-9bae-4cbd-d918-8bc508ae5377"
      },
      "execution_count": 93,
      "outputs": [
        {
          "output_type": "stream",
          "name": "stdout",
          "text": [
            "['hello' 'world']\n",
            "['HELLO' 'WORLD']\n"
          ]
        }
      ]
    },
    {
      "cell_type": "code",
      "source": [
        "sent = np.array(['Hello World'])\n",
        "ans = np.char.split(sent)\n",
        "print(ans)"
      ],
      "metadata": {
        "colab": {
          "base_uri": "https://localhost:8080/"
        },
        "id": "WWYcQG6WvuUi",
        "outputId": "9b5d7847-39d2-4024-befb-6536ea29718d"
      },
      "execution_count": 94,
      "outputs": [
        {
          "output_type": "stream",
          "name": "stdout",
          "text": [
            "[list(['Hello', 'World'])]\n"
          ]
        }
      ]
    },
    {
      "cell_type": "markdown",
      "source": [
        "#Joining Array"
      ],
      "metadata": {
        "id": "EIHI0tZRwBPl"
      }
    },
    {
      "cell_type": "code",
      "source": [
        "arr1 = np.array([1, 2, 3])\n",
        "arr2 = np.array([4, 5, 6])\n",
        "arr = np.concatenate((arr1, arr2))\n",
        "print(arr)"
      ],
      "metadata": {
        "colab": {
          "base_uri": "https://localhost:8080/"
        },
        "id": "DnOCZvykvzgD",
        "outputId": "5326abcb-7a03-42ad-d55d-af4f613ddd9e"
      },
      "execution_count": 95,
      "outputs": [
        {
          "output_type": "stream",
          "name": "stdout",
          "text": [
            "[1 2 3 4 5 6]\n"
          ]
        }
      ]
    },
    {
      "cell_type": "code",
      "source": [
        "arr1 = np.array([[1, 2], [3, 4]])\n",
        "arr2 = np.array([[5, 6], [7, 8]])\n",
        "arr = np.concatenate((arr1, arr2), axis=1)\n",
        "print(arr)"
      ],
      "metadata": {
        "colab": {
          "base_uri": "https://localhost:8080/"
        },
        "id": "DJdEJI_3wDE6",
        "outputId": "a1351447-0755-441a-f44f-6a3b898588cd"
      },
      "execution_count": 96,
      "outputs": [
        {
          "output_type": "stream",
          "name": "stdout",
          "text": [
            "[[1 2 5 6]\n",
            " [3 4 7 8]]\n"
          ]
        }
      ]
    },
    {
      "cell_type": "code",
      "source": [
        "#hstack() to stack along rows.\n",
        "arr1 = np.array([1, 2, 3])\n",
        "arr2 = np.array([4, 5, 6])\n",
        "arr = np.hstack((arr1, arr2))\n",
        "print(arr)"
      ],
      "metadata": {
        "colab": {
          "base_uri": "https://localhost:8080/"
        },
        "id": "Hh5B4LIewFcx",
        "outputId": "8074174a-5e91-4689-b8e3-1f4fa32f78a9"
      },
      "execution_count": 97,
      "outputs": [
        {
          "output_type": "stream",
          "name": "stdout",
          "text": [
            "[1 2 3 4 5 6]\n"
          ]
        }
      ]
    },
    {
      "cell_type": "code",
      "source": [
        "#vstack() to stack along columns\n",
        "arr1 = np.array([1, 2, 3])\n",
        "arr2 = np.array([4, 5, 6])\n",
        "arr = np.vstack((arr1, arr2))\n",
        "print(arr)"
      ],
      "metadata": {
        "colab": {
          "base_uri": "https://localhost:8080/"
        },
        "id": "RN5vFEB1wRfe",
        "outputId": "dec5f7d4-f29a-49dc-9be8-da4d16257640"
      },
      "execution_count": 98,
      "outputs": [
        {
          "output_type": "stream",
          "name": "stdout",
          "text": [
            "[[1 2 3]\n",
            " [4 5 6]]\n"
          ]
        }
      ]
    },
    {
      "cell_type": "code",
      "source": [
        "#dstack() to stack along height, which is the same as depth.\n",
        "arr1 = np.array([1, 2, 3])\n",
        "arr2 = np.array([4, 5, 6])\n",
        "arr = np.dstack((arr1, arr2))\n",
        "print(arr)"
      ],
      "metadata": {
        "colab": {
          "base_uri": "https://localhost:8080/"
        },
        "id": "s90vDbzLwZW1",
        "outputId": "9dea21b6-71d0-40db-f64a-c48361bf1b0f"
      },
      "execution_count": 99,
      "outputs": [
        {
          "output_type": "stream",
          "name": "stdout",
          "text": [
            "[[[1 4]\n",
            "  [2 5]\n",
            "  [3 6]]]\n"
          ]
        }
      ]
    },
    {
      "cell_type": "markdown",
      "source": [
        "#Search"
      ],
      "metadata": {
        "id": "TRxXuTNjwn35"
      }
    },
    {
      "cell_type": "code",
      "source": [
        "#search an array for a certain value, and return the indexes that get a match.\n",
        "arr = np.array([1, 2, 3, 4, 5, 4, 4])\n",
        "x = np.where(arr == 4)\n",
        "print(x)"
      ],
      "metadata": {
        "colab": {
          "base_uri": "https://localhost:8080/"
        },
        "id": "JcH0izVQweAx",
        "outputId": "098d09a9-7df7-4a9a-c4d4-9935506ba3c8"
      },
      "execution_count": 100,
      "outputs": [
        {
          "output_type": "stream",
          "name": "stdout",
          "text": [
            "(array([3, 5, 6]),)\n"
          ]
        }
      ]
    },
    {
      "cell_type": "code",
      "source": [
        "# searchsorted() - performs a binary search in the array, and returns the index where the specified value would be inserted to maintain the search order.\n",
        "arr = np.array([6, 7, 8, 9])\n",
        "x = np.searchsorted(arr, 7)\n",
        "print(x)"
      ],
      "metadata": {
        "colab": {
          "base_uri": "https://localhost:8080/"
        },
        "id": "ShX7dh92wynW",
        "outputId": "f16816c6-fa41-43be-8b9d-eb981955229b"
      },
      "execution_count": 101,
      "outputs": [
        {
          "output_type": "stream",
          "name": "stdout",
          "text": [
            "1\n"
          ]
        }
      ]
    },
    {
      "cell_type": "code",
      "source": [
        "arr = np.array([1, 3, 5, 7])\n",
        "x = np.searchsorted(arr, [2, 4, 6])  #where the vaues should be inserted\n",
        "print(x)"
      ],
      "metadata": {
        "colab": {
          "base_uri": "https://localhost:8080/"
        },
        "id": "o9o0jQrBw-3z",
        "outputId": "61e0a6c7-6773-4d07-d738-6b2a5593edec"
      },
      "execution_count": 102,
      "outputs": [
        {
          "output_type": "stream",
          "name": "stdout",
          "text": [
            "[1 2 3]\n"
          ]
        }
      ]
    },
    {
      "cell_type": "markdown",
      "source": [
        "#Comparing and Filtering"
      ],
      "metadata": {
        "id": "64cnaAiyxaZ7"
      }
    },
    {
      "cell_type": "code",
      "source": [
        "a = np.array([1,2,3])\n",
        "b = np.array([34,2,10])\n",
        "out = np.equal(a,b)\n",
        "print(\"The Boolean output of the equal function:\",out)"
      ],
      "metadata": {
        "colab": {
          "base_uri": "https://localhost:8080/"
        },
        "id": "k27TwufQxD3F",
        "outputId": "586c06f3-1328-4433-8c81-c09dea976fa1"
      },
      "execution_count": 103,
      "outputs": [
        {
          "output_type": "stream",
          "name": "stdout",
          "text": [
            "The Boolean output of the equal function: [False  True False]\n"
          ]
        }
      ]
    },
    {
      "cell_type": "code",
      "source": [
        "#greater() -  is used to compare any two NumPy arrays element-wise. This method returns True if the element in first array is greater than its corresponding element in the second array; and False, otherwise.\n",
        "out = np.greater(a,b)\n",
        "print(\"The Boolean output of the greater function:\",out)"
      ],
      "metadata": {
        "colab": {
          "base_uri": "https://localhost:8080/"
        },
        "id": "ViV2Vf7wxdOH",
        "outputId": "3a5e55bd-47f5-486c-d9b4-53f2a66ca47c"
      },
      "execution_count": 104,
      "outputs": [
        {
          "output_type": "stream",
          "name": "stdout",
          "text": [
            "The Boolean output of the greater function: [False False False]\n"
          ]
        }
      ]
    },
    {
      "cell_type": "code",
      "source": [
        "#delete() method is used to delete elements from a NumPy array, based on a condition specified by the user.\n",
        "a = np.array([34,2,10])\n",
        "filtered_array = np.delete(a, np.where(a == 2))\n",
        "print(\"The output of the delete function :\",filtered_array)"
      ],
      "metadata": {
        "colab": {
          "base_uri": "https://localhost:8080/"
        },
        "id": "ZKEHuig7xhw-",
        "outputId": "cde536eb-d2ab-420b-832c-66fd9ee47168"
      },
      "execution_count": 105,
      "outputs": [
        {
          "output_type": "stream",
          "name": "stdout",
          "text": [
            "The output of the delete function : [34 10]\n"
          ]
        }
      ]
    },
    {
      "cell_type": "code",
      "source": [
        "#extract() - extracts all the elements that satisfy the given condition, as its name implies.\n",
        "a = np.array([34,2,10])\n",
        "filtered_array = np.extract(a <=2, a)\n",
        "print(\"The output of the extract function :\",filtered_array)"
      ],
      "metadata": {
        "colab": {
          "base_uri": "https://localhost:8080/"
        },
        "id": "0wKEqgghx2DM",
        "outputId": "0c819b1a-ff05-434a-de01-938760ed032a"
      },
      "execution_count": 106,
      "outputs": [
        {
          "output_type": "stream",
          "name": "stdout",
          "text": [
            "The output of the extract function : [2]\n"
          ]
        }
      ]
    },
    {
      "cell_type": "code",
      "source": [],
      "metadata": {
        "id": "Oisik4pIx9oj"
      },
      "execution_count": 106,
      "outputs": []
    }
  ]
}