{
 "cells": [
  {
   "cell_type": "markdown",
   "id": "216999da-5cb8-4811-b44d-e2c0d83b1842",
   "metadata": {},
   "source": [
    "NUMPY TUTORIALS\n",
    "NumPy is a general-purpose array-processing package.It provides a high-performance multidimensional array object, and tools for working with these arrays.It is the fundamental package for scientific computing with Python"
   ]
  },
  {
   "cell_type": "markdown",
   "id": "d40f5e58-155b-4bb6-84ab-b309ab0ce54a",
   "metadata": {},
   "source": [
    "ARRAY - Data Structure that stores values of same data type."
   ]
  },
  {
   "cell_type": "code",
   "execution_count": 2,
   "id": "3e2fc0d8-1c87-4c20-ae34-b96171c6d6cd",
   "metadata": {},
   "outputs": [],
   "source": [
    "#importing\n",
    "\n",
    "import numpy as np"
   ]
  },
  {
   "cell_type": "code",
   "execution_count": 3,
   "id": "f4a6b80a-061e-4f73-bae1-128784516000",
   "metadata": {},
   "outputs": [],
   "source": [
    "my_lst=[1,2,3,4,5]\n",
    "\n",
    "arr = np.array(my_lst)"
   ]
  },
  {
   "cell_type": "code",
   "execution_count": 4,
   "id": "2c16e8de-2872-4590-a8ee-402f2713b14e",
   "metadata": {},
   "outputs": [
    {
     "data": {
      "text/plain": [
       "numpy.ndarray"
      ]
     },
     "execution_count": 4,
     "metadata": {},
     "output_type": "execute_result"
    }
   ],
   "source": [
    "type(arr)"
   ]
  },
  {
   "cell_type": "code",
   "execution_count": 5,
   "id": "5048d20c-aa9d-4363-9f21-3f5f2539e5e9",
   "metadata": {},
   "outputs": [
    {
     "data": {
      "text/plain": [
       "array([1, 2, 3, 4, 5])"
      ]
     },
     "execution_count": 5,
     "metadata": {},
     "output_type": "execute_result"
    }
   ],
   "source": [
    "arr"
   ]
  },
  {
   "cell_type": "code",
   "execution_count": 6,
   "id": "05ed16ec-5f51-4d21-b99e-5cae69350f5d",
   "metadata": {},
   "outputs": [
    {
     "name": "stdout",
     "output_type": "stream",
     "text": [
      "[1 2 3 4 5]\n"
     ]
    }
   ],
   "source": [
    "print(arr)"
   ]
  },
  {
   "cell_type": "code",
   "execution_count": 9,
   "id": "ba7abe56-eec4-44b1-9a28-688c6e6ecdce",
   "metadata": {},
   "outputs": [
    {
     "data": {
      "text/plain": [
       "(5,)"
      ]
     },
     "execution_count": 9,
     "metadata": {},
     "output_type": "execute_result"
    }
   ],
   "source": [
    "arr.shape    #rows and columns #1D array"
   ]
  },
  {
   "cell_type": "code",
   "execution_count": 10,
   "id": "bcbb4ec3-251f-4a58-9aba-3238f6a2c0d2",
   "metadata": {},
   "outputs": [],
   "source": [
    "##Multinested array\n",
    "\n",
    "lst1=[1,2,4,5,6]\n",
    "lst2=[2,5,6,3,4]\n",
    "lst3=[1,3,5,9,7]\n",
    "\n",
    "arr=np.array([lst1,lst2,lst3])"
   ]
  },
  {
   "cell_type": "code",
   "execution_count": 11,
   "id": "10a54d2e-cc1a-4700-82e7-00f0d34135c1",
   "metadata": {},
   "outputs": [
    {
     "data": {
      "text/plain": [
       "array([[1, 2, 4, 5, 6],\n",
       "       [2, 5, 6, 3, 4],\n",
       "       [1, 3, 5, 9, 7]])"
      ]
     },
     "execution_count": 11,
     "metadata": {},
     "output_type": "execute_result"
    }
   ],
   "source": [
    "arr"
   ]
  },
  {
   "cell_type": "code",
   "execution_count": 12,
   "id": "3fcbd492-490f-4c3f-818e-33776197025d",
   "metadata": {},
   "outputs": [
    {
     "data": {
      "text/plain": [
       "(3, 5)"
      ]
     },
     "execution_count": 12,
     "metadata": {},
     "output_type": "execute_result"
    }
   ],
   "source": [
    "arr.shape"
   ]
  },
  {
   "cell_type": "code",
   "execution_count": 13,
   "id": "ca8ea82b-4d88-485c-a9b9-9cab848f2d66",
   "metadata": {},
   "outputs": [
    {
     "data": {
      "text/plain": [
       "array([[1, 2, 4],\n",
       "       [5, 6, 2],\n",
       "       [5, 6, 3],\n",
       "       [4, 1, 3],\n",
       "       [5, 9, 7]])"
      ]
     },
     "execution_count": 13,
     "metadata": {},
     "output_type": "execute_result"
    }
   ],
   "source": [
    "arr.reshape(5,3) #changes rows and column "
   ]
  },
  {
   "cell_type": "markdown",
   "id": "6e9d8e02-0d77-462c-b3f4-16cdc8dc3ebd",
   "metadata": {},
   "source": [
    "INDEXING"
   ]
  },
  {
   "cell_type": "code",
   "execution_count": 15,
   "id": "d3a4c8f5-bd66-42f0-98a8-0bb825c11989",
   "metadata": {},
   "outputs": [],
   "source": [
    "lst=[1,2,3,4,5]\n",
    "arr=np.array(lst)"
   ]
  },
  {
   "cell_type": "code",
   "execution_count": 16,
   "id": "336cc0f8-5199-408e-b9bf-23e1c5e38fa0",
   "metadata": {},
   "outputs": [
    {
     "data": {
      "text/plain": [
       "array([1, 2, 3, 4, 5])"
      ]
     },
     "execution_count": 16,
     "metadata": {},
     "output_type": "execute_result"
    }
   ],
   "source": [
    "arr"
   ]
  },
  {
   "cell_type": "code",
   "execution_count": 17,
   "id": "6d611dc1-469a-4899-bf24-0743f40fd60d",
   "metadata": {},
   "outputs": [
    {
     "data": {
      "text/plain": [
       "np.int64(4)"
      ]
     },
     "execution_count": 17,
     "metadata": {},
     "output_type": "execute_result"
    }
   ],
   "source": [
    "arr[3]"
   ]
  },
  {
   "cell_type": "code",
   "execution_count": 18,
   "id": "743c399d-f6e3-4ef1-b879-3dfdf1ad583c",
   "metadata": {},
   "outputs": [],
   "source": [
    "##Multinested array\n",
    "\n",
    "lst1=[1,2,4,5,6]\n",
    "lst2=[2,5,6,3,4]\n",
    "lst3=[1,3,5,9,7]\n",
    "\n",
    "arr=np.array([lst1,lst2,lst3])"
   ]
  },
  {
   "cell_type": "code",
   "execution_count": 19,
   "id": "4262bcf2-62f1-4343-ba49-25891c00fbe4",
   "metadata": {},
   "outputs": [
    {
     "data": {
      "text/plain": [
       "array([[1, 2, 4, 5, 6],\n",
       "       [2, 5, 6, 3, 4],\n",
       "       [1, 3, 5, 9, 7]])"
      ]
     },
     "execution_count": 19,
     "metadata": {},
     "output_type": "execute_result"
    }
   ],
   "source": [
    "arr"
   ]
  },
  {
   "cell_type": "code",
   "execution_count": 20,
   "id": "0d4e46d2-6a3f-4a59-ba9b-31986e149519",
   "metadata": {},
   "outputs": [
    {
     "data": {
      "text/plain": [
       "array([[1, 2, 4, 5, 6],\n",
       "       [2, 5, 6, 3, 4],\n",
       "       [1, 3, 5, 9, 7]])"
      ]
     },
     "execution_count": 20,
     "metadata": {},
     "output_type": "execute_result"
    }
   ],
   "source": [
    "arr[:,:]"
   ]
  },
  {
   "cell_type": "code",
   "execution_count": 22,
   "id": "f08d8d4d-07f2-49f2-8166-2b83d50f71bf",
   "metadata": {},
   "outputs": [
    {
     "data": {
      "text/plain": [
       "array([[1, 2],\n",
       "       [2, 5]])"
      ]
     },
     "execution_count": 22,
     "metadata": {},
     "output_type": "execute_result"
    }
   ],
   "source": [
    "arr[0:2,0:2]"
   ]
  },
  {
   "cell_type": "code",
   "execution_count": 24,
   "id": "01bfc623-4f83-440a-986e-002b06f965f8",
   "metadata": {},
   "outputs": [
    {
     "data": {
      "text/plain": [
       "array([[3, 4],\n",
       "       [9, 7]])"
      ]
     },
     "execution_count": 24,
     "metadata": {},
     "output_type": "execute_result"
    }
   ],
   "source": [
    "arr[1:,3:]"
   ]
  },
  {
   "cell_type": "code",
   "execution_count": 27,
   "id": "99f8a879-4226-4370-8c4b-a2bedfd20034",
   "metadata": {},
   "outputs": [],
   "source": [
    "arr=np.arange(0,10) #randomly select no. from given range and form array & (start,stop,step) "
   ]
  },
  {
   "cell_type": "code",
   "execution_count": 28,
   "id": "86260ca8-a653-4bd5-aa1c-7b5e7e401f23",
   "metadata": {},
   "outputs": [
    {
     "data": {
      "text/plain": [
       "array([0, 1, 2, 3, 4, 5, 6, 7, 8, 9])"
      ]
     },
     "execution_count": 28,
     "metadata": {},
     "output_type": "execute_result"
    }
   ],
   "source": [
    "arr"
   ]
  },
  {
   "cell_type": "code",
   "execution_count": 30,
   "id": "dda914f6-fd7c-4226-a3ad-7948c68d4cea",
   "metadata": {},
   "outputs": [],
   "source": [
    "arr=np.arange(0,10,2)"
   ]
  },
  {
   "cell_type": "code",
   "execution_count": 31,
   "id": "d9100208-9dd6-413a-964a-8091df214602",
   "metadata": {},
   "outputs": [
    {
     "data": {
      "text/plain": [
       "array([0, 2, 4, 6, 8])"
      ]
     },
     "execution_count": 31,
     "metadata": {},
     "output_type": "execute_result"
    }
   ],
   "source": [
    "arr"
   ]
  },
  {
   "cell_type": "code",
   "execution_count": 33,
   "id": "1cd2e86f-abf0-41fc-abe5-ca31a0ee6e9f",
   "metadata": {},
   "outputs": [
    {
     "data": {
      "text/plain": [
       "array([ 1.        ,  1.18367347,  1.36734694,  1.55102041,  1.73469388,\n",
       "        1.91836735,  2.10204082,  2.28571429,  2.46938776,  2.65306122,\n",
       "        2.83673469,  3.02040816,  3.20408163,  3.3877551 ,  3.57142857,\n",
       "        3.75510204,  3.93877551,  4.12244898,  4.30612245,  4.48979592,\n",
       "        4.67346939,  4.85714286,  5.04081633,  5.2244898 ,  5.40816327,\n",
       "        5.59183673,  5.7755102 ,  5.95918367,  6.14285714,  6.32653061,\n",
       "        6.51020408,  6.69387755,  6.87755102,  7.06122449,  7.24489796,\n",
       "        7.42857143,  7.6122449 ,  7.79591837,  7.97959184,  8.16326531,\n",
       "        8.34693878,  8.53061224,  8.71428571,  8.89795918,  9.08163265,\n",
       "        9.26530612,  9.44897959,  9.63265306,  9.81632653, 10.        ])"
      ]
     },
     "execution_count": 33,
     "metadata": {},
     "output_type": "execute_result"
    }
   ],
   "source": [
    "np.linspace(1,10,50) #getting 50 equally points between 1->10"
   ]
  },
  {
   "cell_type": "code",
   "execution_count": 34,
   "id": "1da112f6-2a31-4173-9aa1-b7f6762b1465",
   "metadata": {},
   "outputs": [],
   "source": [
    "#copy function\n",
    "arr[3:]=100   #broadcasting"
   ]
  },
  {
   "cell_type": "code",
   "execution_count": 35,
   "id": "2f13be2b-1645-4003-b66c-5ae2364873e8",
   "metadata": {},
   "outputs": [
    {
     "data": {
      "text/plain": [
       "array([  0,   2,   4, 100, 100])"
      ]
     },
     "execution_count": 35,
     "metadata": {},
     "output_type": "execute_result"
    }
   ],
   "source": [
    "arr"
   ]
  },
  {
   "cell_type": "code",
   "execution_count": 36,
   "id": "679947b7-8681-4beb-bfdb-a7dd5c955ab2",
   "metadata": {},
   "outputs": [],
   "source": [
    "arr1=arr"
   ]
  },
  {
   "cell_type": "code",
   "execution_count": 37,
   "id": "a9a3677e-53b7-46ed-bd5f-61d9accb83f8",
   "metadata": {},
   "outputs": [],
   "source": [
    "arr1[3:]=500"
   ]
  },
  {
   "cell_type": "code",
   "execution_count": 38,
   "id": "f3c2e506-7dc4-4fd7-b920-b53767a99c63",
   "metadata": {},
   "outputs": [
    {
     "data": {
      "text/plain": [
       "array([  0,   2,   4, 500, 500])"
      ]
     },
     "execution_count": 38,
     "metadata": {},
     "output_type": "execute_result"
    }
   ],
   "source": [
    "arr1"
   ]
  },
  {
   "cell_type": "code",
   "execution_count": 40,
   "id": "18f15850-c692-4367-8a49-a8b066a339b9",
   "metadata": {},
   "outputs": [
    {
     "data": {
      "text/plain": [
       "array([  0,   2,   4, 500, 500])"
      ]
     },
     "execution_count": 40,
     "metadata": {},
     "output_type": "execute_result"
    }
   ],
   "source": [
    "arr  #reference tag"
   ]
  },
  {
   "cell_type": "code",
   "execution_count": 41,
   "id": "9e326a5b-37f2-4698-a9d6-5e3ae6691ac6",
   "metadata": {},
   "outputs": [],
   "source": [
    "arr1=arr.copy()"
   ]
  },
  {
   "cell_type": "code",
   "execution_count": 43,
   "id": "1157d993-c81b-4301-bdea-086c8ecaf5f3",
   "metadata": {},
   "outputs": [
    {
     "name": "stdout",
     "output_type": "stream",
     "text": [
      "[  0   2   4 500 500]\n",
      "[   0    2    4 1000 1000]\n"
     ]
    }
   ],
   "source": [
    "print(arr)\n",
    "arr1[3:]=1000\n",
    "print(arr1)   #difference created"
   ]
  },
  {
   "cell_type": "code",
   "execution_count": 49,
   "id": "936078af-8716-45f6-ac25-4fca0b7b6ff5",
   "metadata": {},
   "outputs": [
    {
     "data": {
      "text/plain": [
       "array([0, 2])"
      ]
     },
     "execution_count": 49,
     "metadata": {},
     "output_type": "execute_result"
    }
   ],
   "source": [
    "#some conditions useful in Exploratory Data Analysis\n",
    "\n",
    "val=2\n",
    "\n",
    "arr[arr<4]   #arr<2(values in true or false)"
   ]
  },
  {
   "cell_type": "markdown",
   "id": "697a8e5f-23a9-4e84-abda-2c2ba8f9e6b6",
   "metadata": {},
   "source": [
    "IN-BUILT  FUNCTION"
   ]
  },
  {
   "cell_type": "code",
   "execution_count": 50,
   "id": "8a6bce72-4160-451c-8638-d49cc0d81707",
   "metadata": {},
   "outputs": [
    {
     "data": {
      "text/plain": [
       "array([1., 1., 1., 1.])"
      ]
     },
     "execution_count": 50,
     "metadata": {},
     "output_type": "execute_result"
    }
   ],
   "source": [
    "np.ones(4)  #create an array with all ones"
   ]
  },
  {
   "cell_type": "code",
   "execution_count": 51,
   "id": "82645ec1-81c6-49ab-a5fa-b51a650bd8bc",
   "metadata": {},
   "outputs": [
    {
     "data": {
      "text/plain": [
       "array([[1, 1, 1, 1, 1],\n",
       "       [1, 1, 1, 1, 1]])"
      ]
     },
     "execution_count": 51,
     "metadata": {},
     "output_type": "execute_result"
    }
   ],
   "source": [
    "np.ones((2,5),dtype=int)"
   ]
  },
  {
   "cell_type": "code",
   "execution_count": 53,
   "id": "44b5c837-387c-4a38-a4c6-2bc33e8b6d5e",
   "metadata": {},
   "outputs": [
    {
     "data": {
      "text/plain": [
       "array([[0.91686244, 0.50282778, 0.56484218],\n",
       "       [0.99839615, 0.8967327 , 0.34025477],\n",
       "       [0.04061026, 0.27221667, 0.42121021]])"
      ]
     },
     "execution_count": 53,
     "metadata": {},
     "output_type": "execute_result"
    }
   ],
   "source": [
    "#random distribution\n",
    "\n",
    "np.random.rand(3,3)  #random values in given shape"
   ]
  },
  {
   "cell_type": "code",
   "execution_count": 54,
   "id": "10050364-ce00-4179-8de5-cfb34c6a4e81",
   "metadata": {},
   "outputs": [],
   "source": [
    "arr_ex = np.random.randn(4,4) #selects number randomly from standard normal distribution"
   ]
  },
  {
   "cell_type": "code",
   "execution_count": 55,
   "id": "23df2234-21d3-4521-a83b-60c3e10df6dc",
   "metadata": {},
   "outputs": [
    {
     "data": {
      "text/plain": [
       "array([[ 0.82474343, -0.30835925,  0.56711119, -0.28940446],\n",
       "       [ 0.05675127,  1.01174197, -0.32750379, -0.91583321],\n",
       "       [ 2.01013743,  0.70756026,  0.09008308,  0.51384647],\n",
       "       [-0.12529291,  1.48402363,  1.34649104, -0.96547603]])"
      ]
     },
     "execution_count": 55,
     "metadata": {},
     "output_type": "execute_result"
    }
   ],
   "source": [
    "arr_ex"
   ]
  },
  {
   "cell_type": "code",
   "execution_count": 56,
   "id": "efb64c21-6312-4847-986e-bbe0919ba4a3",
   "metadata": {},
   "outputs": [],
   "source": [
    "import seaborn as sns\n",
    "import pandas as pd"
   ]
  },
  {
   "cell_type": "code",
   "execution_count": 58,
   "id": "9dfac871-c9d0-43ec-b23d-d3a37c5f19f1",
   "metadata": {},
   "outputs": [
    {
     "name": "stderr",
     "output_type": "stream",
     "text": [
      "C:\\Users\\admin\\AppData\\Local\\Temp\\ipykernel_83500\\1832295236.py:1: UserWarning: \n",
      "\n",
      "`distplot` is a deprecated function and will be removed in seaborn v0.14.0.\n",
      "\n",
      "Please adapt your code to use either `displot` (a figure-level function with\n",
      "similar flexibility) or `histplot` (an axes-level function for histograms).\n",
      "\n",
      "For a guide to updating your code to use the new functions, please see\n",
      "https://gist.github.com/mwaskom/de44147ed2974457ad6372750bbe5751\n",
      "\n",
      "  sns.distplot(pd.DataFrame(arr_ex.reshape(16,1)))\n"
     ]
    },
    {
     "data": {
      "text/plain": [
       "<Axes: ylabel='Density'>"
      ]
     },
     "execution_count": 58,
     "metadata": {},
     "output_type": "execute_result"
    },
    {
     "data": {
      "image/png": "[encoded data removed]",
      "text/plain": [
       "<Figure size 640x480 with 1 Axes>"
      ]
     },
     "metadata": {},
     "output_type": "display_data"
    }
   ],
   "source": [
    "sns.distplot(pd.DataFrame(arr_ex.reshape(16,1)))"
   ]
  },
  {
   "cell_type": "code",
   "execution_count": 60,
   "id": "c3e73f83-5d0f-4f41-a969-7a0c0c983474",
   "metadata": {},
   "outputs": [
    {
     "data": {
      "text/plain": [
       "array([[50, 94, 69, 30],\n",
       "       [53, 37,  2, 44]], dtype=int32)"
      ]
     },
     "execution_count": 60,
     "metadata": {},
     "output_type": "execute_result"
    }
   ],
   "source": [
    "np.random.randint(0,100,8).reshape(2,4) #select 8 numbers randomly from 0->100\n"
   ]
  },
  {
   "cell_type": "code",
   "execution_count": 61,
   "id": "4caf195d-c5d2-4959-91fb-f5ad2b370ff6",
   "metadata": {},
   "outputs": [
    {
     "data": {
      "text/plain": [
       "array([[0.24060922, 0.95253932, 0.36904474, 0.82390971, 0.87065086]])"
      ]
     },
     "execution_count": 61,
     "metadata": {},
     "output_type": "execute_result"
    }
   ],
   "source": [
    "np.random.random_sample((1,5))  #select random float value between 0.0-1.0"
   ]
  },
  {
   "cell_type": "code",
   "execution_count": null,
   "id": "d729724a-1f4a-40b2-941a-d9a87e721885",
   "metadata": {},
   "outputs": [],
   "source": []
  }
 ],
 "metadata": {
  "kernelspec": {
   "display_name": "Python 3 (ipykernel)",
   "language": "python",
   "name": "python3"
  },
  "language_info": {
   "codemirror_mode": {
    "name": "ipython",
    "version": 3
   },
   "file_extension": ".py",
   "mimetype": "text/x-python",
   "name": "python",
   "nbconvert_exporter": "python",
   "pygments_lexer": "ipython3",
   "version": "3.12.3"
  }
 },
 "nbformat": 4,
 "nbformat_minor": 5
}
