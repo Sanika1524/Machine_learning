{
 "cells": [
  {
   "cell_type": "code",
   "execution_count": 2,
   "id": "29c12e13-13e5-421c-bf12-b4084ee65612",
   "metadata": {},
   "outputs": [
    {
     "data": {
      "text/plain": [
       "2"
      ]
     },
     "execution_count": 2,
     "metadata": {},
     "output_type": "execute_result"
    }
   ],
   "source": [
    "1+1\n"
   ]
  },
  {
   "cell_type": "code",
   "execution_count": 3,
   "id": "ef1d0be2-2475-485c-b1e8-4afd518848f0",
   "metadata": {},
   "outputs": [
    {
     "data": {
      "text/plain": [
       "20"
      ]
     },
     "execution_count": 3,
     "metadata": {},
     "output_type": "execute_result"
    }
   ],
   "source": [
    "4*5"
   ]
  },
  {
   "cell_type": "code",
   "execution_count": 4,
   "id": "5a1d4874-134b-40f2-be53-9eebebf41530",
   "metadata": {},
   "outputs": [
    {
     "data": {
      "text/plain": [
       "5.0"
      ]
     },
     "execution_count": 4,
     "metadata": {},
     "output_type": "execute_result"
    }
   ],
   "source": [
    "10/2"
   ]
  },
  {
   "cell_type": "code",
   "execution_count": 5,
   "id": "a4e8648c-2f38-4f82-b700-c2b4de3c748d",
   "metadata": {},
   "outputs": [
    {
     "data": {
      "text/plain": [
       "1000000000000000000000"
      ]
     },
     "execution_count": 5,
     "metadata": {},
     "output_type": "execute_result"
    }
   ],
   "source": [
    "10**21"
   ]
  },
  {
   "cell_type": "code",
   "execution_count": 6,
   "id": "cac816ac-0754-45c0-9b48-90cb7f28e7b2",
   "metadata": {},
   "outputs": [
    {
     "data": {
      "text/plain": [
       "'strstrstrstrstrstrstrstrstrstr'"
      ]
     },
     "execution_count": 6,
     "metadata": {},
     "output_type": "execute_result"
    }
   ],
   "source": [
    "10* 'str'"
   ]
  },
  {
   "cell_type": "code",
   "execution_count": 7,
   "id": "2f0782c7-37c4-4c1d-83ba-16120d28f703",
   "metadata": {},
   "outputs": [],
   "source": [
    "##checking data types"
   ]
  },
  {
   "cell_type": "code",
   "execution_count": 8,
   "id": "3f48d41e-f010-467f-abce-0d2756b8551c",
   "metadata": {},
   "outputs": [
    {
     "data": {
      "text/plain": [
       "float"
      ]
     },
     "execution_count": 8,
     "metadata": {},
     "output_type": "execute_result"
    }
   ],
   "source": [
    "type(10.0)"
   ]
  },
  {
   "cell_type": "code",
   "execution_count": 11,
   "id": "194c8536-ba86-4ae2-916a-f714bb492f6d",
   "metadata": {},
   "outputs": [
    {
     "data": {
      "text/plain": [
       "bool"
      ]
     },
     "execution_count": 11,
     "metadata": {},
     "output_type": "execute_result"
    }
   ],
   "source": [
    "type(True)"
   ]
  },
  {
   "cell_type": "code",
   "execution_count": 12,
   "id": "ba9c501c-e385-4523-8e09-9d0f4dc9799c",
   "metadata": {},
   "outputs": [
    {
     "data": {
      "text/plain": [
       "str"
      ]
     },
     "execution_count": 12,
     "metadata": {},
     "output_type": "execute_result"
    }
   ],
   "source": [
    "type(\"HELLO\")\n"
   ]
  },
  {
   "cell_type": "code",
   "execution_count": 13,
   "id": "bfe25608-aaa5-4400-911e-a936c11dbea9",
   "metadata": {},
   "outputs": [
    {
     "data": {
      "text/plain": [
       "'HELLO'"
      ]
     },
     "execution_count": 13,
     "metadata": {},
     "output_type": "execute_result"
    }
   ],
   "source": [
    "\"HELLO\""
   ]
  },
  {
   "cell_type": "code",
   "execution_count": 17,
   "id": "802be7d5-65a4-477d-9732-f923749b8719",
   "metadata": {},
   "outputs": [],
   "source": [
    "#syntax\n",
    "#var_name=values\n",
    "\n",
    "a = 'sanika'"
   ]
  },
  {
   "cell_type": "code",
   "execution_count": 18,
   "id": "2cdc058d-9fb1-42c6-be22-d3c72a1418b1",
   "metadata": {},
   "outputs": [
    {
     "data": {
      "text/plain": [
       "str"
      ]
     },
     "execution_count": 18,
     "metadata": {},
     "output_type": "execute_result"
    }
   ],
   "source": [
    "type(a)"
   ]
  },
  {
   "cell_type": "code",
   "execution_count": 19,
   "id": "24ada624-b7d3-4abc-93a8-f4edf1d58ccc",
   "metadata": {},
   "outputs": [],
   "source": [
    "a=10\n",
    "b=2"
   ]
  },
  {
   "cell_type": "code",
   "execution_count": 20,
   "id": "8ce8cacc-7068-4158-8ed4-f20fc324b395",
   "metadata": {},
   "outputs": [
    {
     "name": "stdout",
     "output_type": "stream",
     "text": [
      "20\n"
     ]
    }
   ],
   "source": [
    "print(a*b)"
   ]
  },
  {
   "cell_type": "code",
   "execution_count": 21,
   "id": "667bdcac-d7d9-41b2-85ea-e40429204eed",
   "metadata": {},
   "outputs": [
    {
     "name": "stdout",
     "output_type": "stream",
     "text": [
      "5.0\n"
     ]
    }
   ],
   "source": [
    "print(a/b)"
   ]
  },
  {
   "cell_type": "code",
   "execution_count": 22,
   "id": "8d16d89a-9ec9-40e7-9c22-de266ead629a",
   "metadata": {},
   "outputs": [
    {
     "name": "stdout",
     "output_type": "stream",
     "text": [
      "25.0\n"
     ]
    }
   ],
   "source": [
    "print((a*b)+(a/b))"
   ]
  },
  {
   "cell_type": "code",
   "execution_count": 25,
   "id": "db2c7230-fcdf-4a0b-b25c-7f0eb7593c84",
   "metadata": {},
   "outputs": [
    {
     "name": "stdout",
     "output_type": "stream",
     "text": [
      "HELLO\n"
     ]
    }
   ],
   "source": [
    "#various ways of printing\n",
    "print(\"HELLO\")"
   ]
  },
  {
   "cell_type": "code",
   "execution_count": 24,
   "id": "592df70d-4ed0-4dc8-a691-7d907ff162f7",
   "metadata": {},
   "outputs": [],
   "source": [
    "first_name='Krish'\n",
    "last_name='Naik'"
   ]
  },
  {
   "cell_type": "code",
   "execution_count": 26,
   "id": "252d0bb6-9b29-445a-a3b5-87a59a6331ca",
   "metadata": {},
   "outputs": [
    {
     "name": "stdout",
     "output_type": "stream",
     "text": [
      "My First Name is Krish and Last Name is Naik\n"
     ]
    }
   ],
   "source": [
    "print(\"My First Name is {} and Last Name is {}\".format(first_name,last_name))"
   ]
  },
  {
   "cell_type": "code",
   "execution_count": 27,
   "id": "378debeb-9798-4820-bf62-f93a20c7d0f6",
   "metadata": {},
   "outputs": [
    {
     "name": "stdout",
     "output_type": "stream",
     "text": [
      "My First Name is Naik and Last Name is Krish\n"
     ]
    }
   ],
   "source": [
    "print(\"My First Name is {} and Last Name is {}\".format(last_name,first_name))"
   ]
  },
  {
   "cell_type": "code",
   "execution_count": 28,
   "id": "a5e9dc4a-220a-4577-b218-1a4694dc6769",
   "metadata": {},
   "outputs": [
    {
     "name": "stdout",
     "output_type": "stream",
     "text": [
      "My First Name is Krish and Last Name is Naik\n"
     ]
    }
   ],
   "source": [
    "print(\"My First Name is {first} and Last Name is {last}\".format(first=first_name,last=last_name))"
   ]
  },
  {
   "cell_type": "code",
   "execution_count": 29,
   "id": "9fe038ad-8bd0-4d3f-aeeb-8da58309afde",
   "metadata": {},
   "outputs": [
    {
     "data": {
      "text/plain": [
       "5"
      ]
     },
     "execution_count": 29,
     "metadata": {},
     "output_type": "execute_result"
    }
   ],
   "source": [
    "len('Krish')"
   ]
  },
  {
   "cell_type": "code",
   "execution_count": 31,
   "id": "13f77d61-6f28-4f43-a7b9-7596de07d7bc",
   "metadata": {},
   "outputs": [
    {
     "data": {
      "text/plain": [
       "4"
      ]
     },
     "execution_count": 31,
     "metadata": {},
     "output_type": "execute_result"
    }
   ],
   "source": [
    "len(last_name)"
   ]
  },
  {
   "cell_type": "code",
   "execution_count": 32,
   "id": "a304804f-3e4c-42b4-b9cb-241b313e4abb",
   "metadata": {},
   "outputs": [
    {
     "data": {
      "text/plain": [
       "False"
      ]
     },
     "execution_count": 32,
     "metadata": {},
     "output_type": "execute_result"
    }
   ],
   "source": [
    "bool()"
   ]
  },
  {
   "cell_type": "code",
   "execution_count": 33,
   "id": "d0db6525-139d-4f6c-9981-2872d8ed4938",
   "metadata": {},
   "outputs": [
    {
     "name": "stdout",
     "output_type": "stream",
     "text": [
      "True False\n"
     ]
    }
   ],
   "source": [
    "print(True,False)"
   ]
  },
  {
   "cell_type": "code",
   "execution_count": 34,
   "id": "cf2b17e3-610e-42db-a8fe-62cb00ac663f",
   "metadata": {},
   "outputs": [],
   "source": [
    "str=\"Krish Naik\""
   ]
  },
  {
   "cell_type": "code",
   "execution_count": 45,
   "id": "d6f15a54-401f-4fe7-a0b7-cf288e3916e9",
   "metadata": {},
   "outputs": [
    {
     "name": "stdout",
     "output_type": "stream",
     "text": [
      "False\n",
      "False\n",
      "False\n",
      "True\n",
      "False\n",
      "False\n",
      "False\n",
      "True\n"
     ]
    }
   ],
   "source": [
    "print(str.isalnum()) #check if all char are numbers\n",
    "print(str.isalpha()) #check if all char in the str are alphabet\n",
    "print(str.isdigit()) #test if string contains digits\n",
    "print(str.istitle())  #test if string contains title words\n",
    "print(str.isupper())  #test if string contains upper case\n",
    "print(str.isspace())  #test if string contains spaces\n",
    "print(str.endswith('d')) #test if string ends with d\n",
    "print(str.startswith('K')) #test if string starts with K"
   ]
  },
  {
   "cell_type": "markdown",
   "id": "c79a8d8b-e427-41e8-a192-d39f2d893364",
   "metadata": {},
   "source": [
    "BOOLEAN AND LOGICAL OPERATORS"
   ]
  },
  {
   "cell_type": "code",
   "execution_count": 46,
   "id": "2c5aba6e-0b87-4787-a85c-95b1c331b64f",
   "metadata": {},
   "outputs": [
    {
     "data": {
      "text/plain": [
       "True"
      ]
     },
     "execution_count": 46,
     "metadata": {},
     "output_type": "execute_result"
    }
   ],
   "source": [
    "True and True"
   ]
  },
  {
   "cell_type": "code",
   "execution_count": 47,
   "id": "6eb5056b-d296-478b-b367-9f9969be21f4",
   "metadata": {},
   "outputs": [
    {
     "data": {
      "text/plain": [
       "False"
      ]
     },
     "execution_count": 47,
     "metadata": {},
     "output_type": "execute_result"
    }
   ],
   "source": [
    "True and False"
   ]
  },
  {
   "cell_type": "code",
   "execution_count": 48,
   "id": "1a327be7-ea2c-4b72-b6a7-4b7311acce5f",
   "metadata": {},
   "outputs": [
    {
     "data": {
      "text/plain": [
       "True"
      ]
     },
     "execution_count": 48,
     "metadata": {},
     "output_type": "execute_result"
    }
   ],
   "source": [
    "True or False"
   ]
  },
  {
   "cell_type": "code",
   "execution_count": 49,
   "id": "d754242e-73aa-4f19-8d5d-78da15e3cccd",
   "metadata": {},
   "outputs": [
    {
     "data": {
      "text/plain": [
       "False"
      ]
     },
     "execution_count": 49,
     "metadata": {},
     "output_type": "execute_result"
    }
   ],
   "source": [
    "False or False"
   ]
  },
  {
   "cell_type": "code",
   "execution_count": 50,
   "id": "0366b358-2310-4dd8-914e-28198c81b56c",
   "metadata": {},
   "outputs": [],
   "source": [
    "str1='Krish'\n",
    "str2='Hello'"
   ]
  },
  {
   "cell_type": "code",
   "execution_count": 52,
   "id": "a8403abe-d080-4652-9bef-895ee9229b97",
   "metadata": {},
   "outputs": [
    {
     "data": {
      "text/plain": [
       "True"
      ]
     },
     "execution_count": 52,
     "metadata": {},
     "output_type": "execute_result"
    }
   ],
   "source": [
    "str1.isalpha() or str2.isnum()"
   ]
  },
  {
   "cell_type": "markdown",
   "id": "4942eaf3-cf2d-4744-a13e-341604c5074b",
   "metadata": {},
   "source": [
    "LISTS"
   ]
  },
  {
   "cell_type": "code",
   "execution_count": 53,
   "id": "9223ecd9-cb23-4a32-bbfc-5b70b2527fa5",
   "metadata": {},
   "outputs": [],
   "source": [
    "lst=[]"
   ]
  },
  {
   "cell_type": "code",
   "execution_count": 54,
   "id": "2f5d6d1e-292e-4f93-8bc2-12ff1d8d4796",
   "metadata": {},
   "outputs": [
    {
     "data": {
      "text/plain": [
       "list"
      ]
     },
     "execution_count": 54,
     "metadata": {},
     "output_type": "execute_result"
    }
   ],
   "source": [
    "type(lst)"
   ]
  },
  {
   "cell_type": "code",
   "execution_count": 55,
   "id": "dfb635fb-5d38-4c3f-adc6-ddab0eb8901e",
   "metadata": {},
   "outputs": [],
   "source": [
    "lst_ex = list()"
   ]
  },
  {
   "cell_type": "code",
   "execution_count": 56,
   "id": "6c811a76-093e-47bd-8d7e-e8ee5bc132ec",
   "metadata": {},
   "outputs": [
    {
     "data": {
      "text/plain": [
       "list"
      ]
     },
     "execution_count": 56,
     "metadata": {},
     "output_type": "execute_result"
    }
   ],
   "source": [
    "type(lst_ex)"
   ]
  },
  {
   "cell_type": "code",
   "execution_count": 57,
   "id": "1c946091-c92c-4313-be97-021419138115",
   "metadata": {},
   "outputs": [],
   "source": [
    "lst = ['Maths','Chem',100,200]"
   ]
  },
  {
   "cell_type": "code",
   "execution_count": 61,
   "id": "aceb47e8-a679-49a1-89ae-3bd0c16675e6",
   "metadata": {},
   "outputs": [
    {
     "data": {
      "text/plain": [
       "5"
      ]
     },
     "execution_count": 61,
     "metadata": {},
     "output_type": "execute_result"
    }
   ],
   "source": [
    "len(lst)"
   ]
  },
  {
   "cell_type": "code",
   "execution_count": 58,
   "id": "a4f53833-b015-4326-9e13-b082476915dc",
   "metadata": {},
   "outputs": [
    {
     "name": "stdout",
     "output_type": "stream",
     "text": [
      "['Maths', 'Chem', 100, 200]\n"
     ]
    }
   ],
   "source": [
    "print(lst)"
   ]
  },
  {
   "cell_type": "code",
   "execution_count": 65,
   "id": "5b22bad3-4fde-46e3-8839-83cd02104b70",
   "metadata": {},
   "outputs": [
    {
     "data": {
      "text/plain": [
       "100"
      ]
     },
     "execution_count": 65,
     "metadata": {},
     "output_type": "execute_result"
    }
   ],
   "source": [
    "lst[3]"
   ]
  },
  {
   "cell_type": "markdown",
   "id": "04927deb-3102-4bd2-9684-5b6d38830cc1",
   "metadata": {},
   "source": [
    "lst[1:]"
   ]
  },
  {
   "cell_type": "markdown",
   "id": "75834ddc-cb3f-4b7c-97b5-e5746d9e8388",
   "metadata": {},
   "source": [
    "APPEND"
   ]
  },
  {
   "cell_type": "code",
   "execution_count": 59,
   "id": "8e4580c1-d4c2-42d2-8281-8e7681cd73c4",
   "metadata": {},
   "outputs": [],
   "source": [
    "#append is to add elements in list\n",
    "lst.append(\"Krish\")"
   ]
  },
  {
   "cell_type": "code",
   "execution_count": 68,
   "id": "69a1ee53-896e-48b4-a144-3b0d4fdc6c63",
   "metadata": {},
   "outputs": [],
   "source": [
    "lst.append(['John','Bala'])"
   ]
  },
  {
   "cell_type": "code",
   "execution_count": 69,
   "id": "9066fd50-3915-4847-a61e-cd258da4fc6f",
   "metadata": {},
   "outputs": [
    {
     "data": {
      "text/plain": [
       "['Maths', 'Naik', 'Chem', 100, 200, 'Krish', ['John', 'Bala']]"
      ]
     },
     "execution_count": 69,
     "metadata": {},
     "output_type": "execute_result"
    }
   ],
   "source": [
    "lst"
   ]
  },
  {
   "cell_type": "markdown",
   "id": "d9d42518-1ddc-4ce0-9dd9-757c01a04a6d",
   "metadata": {},
   "source": [
    "INSERT"
   ]
  },
  {
   "cell_type": "code",
   "execution_count": 70,
   "id": "18c4a3b0-4e36-4ba6-8a6b-3c80b8201290",
   "metadata": {},
   "outputs": [],
   "source": [
    "lst.insert(1,'Naik')"
   ]
  },
  {
   "cell_type": "code",
   "execution_count": 71,
   "id": "f44eac69-012a-4eab-aa01-146c4a7369ad",
   "metadata": {},
   "outputs": [
    {
     "data": {
      "text/plain": [
       "['Maths', 'Naik', 'Naik', 'Chem', 100, 200, 'Krish', ['John', 'Bala']]"
      ]
     },
     "execution_count": 71,
     "metadata": {},
     "output_type": "execute_result"
    }
   ],
   "source": [
    "lst"
   ]
  },
  {
   "cell_type": "markdown",
   "id": "af9e62cb-762c-4819-b094-95b19711f0a4",
   "metadata": {},
   "source": [
    "EXTEND"
   ]
  },
  {
   "cell_type": "code",
   "execution_count": 73,
   "id": "9d72e385-c8c0-4c10-93a7-16429506e2d4",
   "metadata": {},
   "outputs": [],
   "source": [
    "lst=[1,2,3,4,5]"
   ]
  },
  {
   "cell_type": "code",
   "execution_count": 74,
   "id": "0fcc19b9-2132-4b65-a203-bc0f5d97dec5",
   "metadata": {},
   "outputs": [],
   "source": [
    "lst.extend([6,7])"
   ]
  },
  {
   "cell_type": "code",
   "execution_count": 75,
   "id": "dd8b2633-cfdb-4fe3-86ab-a22ec17eb7e6",
   "metadata": {},
   "outputs": [
    {
     "data": {
      "text/plain": [
       "[1, 2, 3, 4, 5, 6, 7]"
      ]
     },
     "execution_count": 75,
     "metadata": {},
     "output_type": "execute_result"
    }
   ],
   "source": [
    "lst"
   ]
  },
  {
   "cell_type": "code",
   "execution_count": 77,
   "id": "d5f1cfda-9d52-4477-9710-87f9a96c5db5",
   "metadata": {},
   "outputs": [
    {
     "data": {
      "text/plain": [
       "28"
      ]
     },
     "execution_count": 77,
     "metadata": {},
     "output_type": "execute_result"
    }
   ],
   "source": [
    "sum(lst)"
   ]
  },
  {
   "cell_type": "code",
   "execution_count": 83,
   "id": "bd3a7b14-568c-4310-8ea2-509b818cc3af",
   "metadata": {},
   "outputs": [
    {
     "data": {
      "text/plain": [
       "5"
      ]
     },
     "execution_count": 83,
     "metadata": {},
     "output_type": "execute_result"
    }
   ],
   "source": [
    "lst.pop(2) #no value then last element will be removed"
   ]
  },
  {
   "cell_type": "code",
   "execution_count": 84,
   "id": "703719b8-c950-4525-8281-9a960de00860",
   "metadata": {},
   "outputs": [
    {
     "data": {
      "text/plain": [
       "[1, 2]"
      ]
     },
     "execution_count": 84,
     "metadata": {},
     "output_type": "execute_result"
    }
   ],
   "source": [
    "lst"
   ]
  },
  {
   "cell_type": "markdown",
   "id": "1670c764-16c5-4b9e-9d82-976d1eea59be",
   "metadata": {},
   "source": [
    "count():Calculate total occurance of given element of list"
   ]
  },
  {
   "cell_type": "code",
   "execution_count": 85,
   "id": "8d34d1f1-aaa7-4dbc-adeb-00c475236b3e",
   "metadata": {},
   "outputs": [],
   "source": [
    "list=[1,1,5,1,5,6,1,7,3,9,4]"
   ]
  },
  {
   "cell_type": "code",
   "execution_count": 86,
   "id": "8e53094e-ed20-4583-8b6e-fd9e7280807b",
   "metadata": {},
   "outputs": [
    {
     "data": {
      "text/plain": [
       "4"
      ]
     },
     "execution_count": 86,
     "metadata": {},
     "output_type": "execute_result"
    }
   ],
   "source": [
    "list.count(1)"
   ]
  },
  {
   "cell_type": "code",
   "execution_count": 87,
   "id": "4ca3772a-72af-4877-a289-caf0808c4045",
   "metadata": {},
   "outputs": [
    {
     "data": {
      "text/plain": [
       "11"
      ]
     },
     "execution_count": 87,
     "metadata": {},
     "output_type": "execute_result"
    }
   ],
   "source": [
    "len(list)"
   ]
  },
  {
   "cell_type": "code",
   "execution_count": 89,
   "id": "366fb419-a1e1-4857-a1e3-264b50480ad0",
   "metadata": {},
   "outputs": [
    {
     "data": {
      "text/plain": [
       "2"
      ]
     },
     "execution_count": 89,
     "metadata": {},
     "output_type": "execute_result"
    }
   ],
   "source": [
    "list.index(5)"
   ]
  },
  {
   "cell_type": "code",
   "execution_count": 90,
   "id": "56567108-a883-4d48-813c-afe796577273",
   "metadata": {},
   "outputs": [
    {
     "data": {
      "text/plain": [
       "1"
      ]
     },
     "execution_count": 90,
     "metadata": {},
     "output_type": "execute_result"
    }
   ],
   "source": [
    "min(list)"
   ]
  },
  {
   "cell_type": "code",
   "execution_count": 91,
   "id": "0f626491-a026-44b2-8cc7-a06a19447f1f",
   "metadata": {},
   "outputs": [
    {
     "data": {
      "text/plain": [
       "9"
      ]
     },
     "execution_count": 91,
     "metadata": {},
     "output_type": "execute_result"
    }
   ],
   "source": [
    "max(list)"
   ]
  },
  {
   "cell_type": "code",
   "execution_count": 92,
   "id": "1b8a66d9-7faf-40cd-a0a0-97ab27350d4d",
   "metadata": {},
   "outputs": [
    {
     "data": {
      "text/plain": [
       "[1, 1, 5, 1, 5, 6, 1, 7, 3, 9, 4, 1, 1, 5, 1, 5, 6, 1, 7, 3, 9, 4]"
      ]
     },
     "execution_count": 92,
     "metadata": {},
     "output_type": "execute_result"
    }
   ],
   "source": [
    "list*2"
   ]
  },
  {
   "cell_type": "markdown",
   "id": "f27f5c46-306a-42b0-9d9a-4948093eb18f",
   "metadata": {},
   "source": [
    "SETS"
   ]
  },
  {
   "cell_type": "code",
   "execution_count": 93,
   "id": "f1008672-e0cd-4a55-9dce-1ad944997273",
   "metadata": {},
   "outputs": [
    {
     "name": "stdout",
     "output_type": "stream",
     "text": [
      "set()\n",
      "<class 'set'>\n"
     ]
    }
   ],
   "source": [
    "#defining empty set\n",
    "\n",
    "set_var = set()\n",
    "print(set_var)\n",
    "print(type(set_var))"
   ]
  },
  {
   "cell_type": "code",
   "execution_count": 94,
   "id": "21b611ea-d6e1-47ff-8939-a3ef7d960d1b",
   "metadata": {},
   "outputs": [
    {
     "name": "stdout",
     "output_type": "stream",
     "text": [
      "{'Avengers', 'IronMan', 'Hitman'}\n"
     ]
    }
   ],
   "source": [
    "set_var={\"Avengers\",\"IronMan\",\"Hitman\"}\n",
    "print(set_var)"
   ]
  },
  {
   "cell_type": "code",
   "execution_count": 96,
   "id": "dfdc2f2d-3eea-4fbb-921c-309e5a131d29",
   "metadata": {},
   "outputs": [
    {
     "name": "stdout",
     "output_type": "stream",
     "text": [
      "{1, 2, 3, 4}\n"
     ]
    }
   ],
   "source": [
    "set_var={1,2,3,4,1} #no duplicate values taken\n",
    "print(set_var)"
   ]
  },
  {
   "cell_type": "markdown",
   "id": "1645a691-826a-428f-97c6-d9977e53dc14",
   "metadata": {},
   "source": [
    "set_var[\"Avengers\"] #no indexing in sets"
   ]
  },
  {
   "cell_type": "code",
   "execution_count": 99,
   "id": "606651d8-88c7-4a7b-b013-6ef5969d4069",
   "metadata": {},
   "outputs": [],
   "source": [
    "#Inbulit function in sets\n",
    "\n",
    "set_var.add(\"Hulk\")"
   ]
  },
  {
   "cell_type": "code",
   "execution_count": 100,
   "id": "33fc5ae0-f71f-40f0-9c84-025cbc3c64ab",
   "metadata": {},
   "outputs": [
    {
     "name": "stdout",
     "output_type": "stream",
     "text": [
      "{1, 2, 'Hulk', 3, 4}\n"
     ]
    }
   ],
   "source": [
    "print(set_var)"
   ]
  },
  {
   "cell_type": "code",
   "execution_count": 101,
   "id": "0be961c3-1b7b-4421-b8b3-d4ea04ea9a27",
   "metadata": {},
   "outputs": [],
   "source": [
    "set1={\"Avengers\",\"IronMan\",\"Hitman\"}\n",
    "set2={\"Avengers\",\"IronMan\",\"Hitman\",\"Hulk\"}"
   ]
  },
  {
   "cell_type": "code",
   "execution_count": 106,
   "id": "2a4d17fe-3191-4a6a-a537-6627cd9df290",
   "metadata": {},
   "outputs": [],
   "source": [
    "set2.intersection_update(set1)"
   ]
  },
  {
   "cell_type": "code",
   "execution_count": 107,
   "id": "7ad1a247-f5fb-4a4c-a1e3-0c912b349dd7",
   "metadata": {},
   "outputs": [
    {
     "data": {
      "text/plain": [
       "set()"
      ]
     },
     "execution_count": 107,
     "metadata": {},
     "output_type": "execute_result"
    }
   ],
   "source": [
    "set2"
   ]
  },
  {
   "cell_type": "code",
   "execution_count": 102,
   "id": "2c3159c6-6501-4469-81ed-0308265a70f2",
   "metadata": {},
   "outputs": [
    {
     "data": {
      "text/plain": [
       "{'Hulk'}"
      ]
     },
     "execution_count": 102,
     "metadata": {},
     "output_type": "execute_result"
    }
   ],
   "source": [
    "set2.difference(set1) #Difference"
   ]
  },
  {
   "cell_type": "code",
   "execution_count": 104,
   "id": "81b6a4ec-fc9a-4f68-8116-faf72198b995",
   "metadata": {},
   "outputs": [],
   "source": [
    "#Difference update\n",
    "\n",
    "set2.difference_update(set1)"
   ]
  },
  {
   "cell_type": "code",
   "execution_count": 105,
   "id": "aac05fa2-ee6c-4197-8a87-e391dbed41c6",
   "metadata": {},
   "outputs": [
    {
     "data": {
      "text/plain": [
       "{'Hulk'}"
      ]
     },
     "execution_count": 105,
     "metadata": {},
     "output_type": "execute_result"
    }
   ],
   "source": [
    "set2"
   ]
  },
  {
   "cell_type": "code",
   "execution_count": 108,
   "id": "c1415809-5843-406d-8295-3898d38fec0a",
   "metadata": {},
   "outputs": [
    {
     "data": {
      "text/plain": [
       "set()"
      ]
     },
     "execution_count": 108,
     "metadata": {},
     "output_type": "execute_result"
    }
   ],
   "source": [
    "set2"
   ]
  },
  {
   "cell_type": "markdown",
   "id": "951df0b2-44b3-4264-8b8e-161af6d004c7",
   "metadata": {},
   "source": [
    "DICTIONARY"
   ]
  },
  {
   "cell_type": "code",
   "execution_count": 109,
   "id": "be61051c-c407-4d33-be14-eaabac6001e3",
   "metadata": {},
   "outputs": [],
   "source": [
    "dic={}"
   ]
  },
  {
   "cell_type": "code",
   "execution_count": 110,
   "id": "90146d29-5935-4d7e-91b5-d1840942eb9e",
   "metadata": {},
   "outputs": [
    {
     "data": {
      "text/plain": [
       "dict"
      ]
     },
     "execution_count": 110,
     "metadata": {},
     "output_type": "execute_result"
    }
   ],
   "source": [
    "type(dic)"
   ]
  },
  {
   "cell_type": "code",
   "execution_count": 111,
   "id": "a8aa10ed-4353-40fe-b826-5becda040218",
   "metadata": {},
   "outputs": [],
   "source": [
    "dic={\"car1\":\"Audi\",\"car2\":\"BMW\"}"
   ]
  },
  {
   "cell_type": "code",
   "execution_count": 112,
   "id": "5f3552f4-e510-4589-a0a7-c46807f5985c",
   "metadata": {},
   "outputs": [
    {
     "data": {
      "text/plain": [
       "{'car1': 'Audi', 'car2': 'BMW'}"
      ]
     },
     "execution_count": 112,
     "metadata": {},
     "output_type": "execute_result"
    }
   ],
   "source": [
    "dic"
   ]
  },
  {
   "cell_type": "code",
   "execution_count": 113,
   "id": "0f19324a-3e12-4096-a66d-3f83b9d548d5",
   "metadata": {},
   "outputs": [
    {
     "data": {
      "text/plain": [
       "'Audi'"
      ]
     },
     "execution_count": 113,
     "metadata": {},
     "output_type": "execute_result"
    }
   ],
   "source": [
    "dic['car1']"
   ]
  },
  {
   "cell_type": "code",
   "execution_count": 114,
   "id": "bf332579-76fa-42c7-83c2-3f78b7ac4061",
   "metadata": {},
   "outputs": [
    {
     "name": "stdout",
     "output_type": "stream",
     "text": [
      "car1\n",
      "car2\n"
     ]
    }
   ],
   "source": [
    "for x in dic:\n",
    "    print(x)"
   ]
  },
  {
   "cell_type": "code",
   "execution_count": 115,
   "id": "d0c82f9b-4c6d-4734-9956-19d257f199c5",
   "metadata": {},
   "outputs": [
    {
     "name": "stdout",
     "output_type": "stream",
     "text": [
      "Audi\n",
      "BMW\n"
     ]
    }
   ],
   "source": [
    "for x in dic.values():\n",
    "    print(x)"
   ]
  },
  {
   "cell_type": "code",
   "execution_count": 116,
   "id": "d3a1d11b-bec6-4987-9550-240509b79791",
   "metadata": {},
   "outputs": [
    {
     "name": "stdout",
     "output_type": "stream",
     "text": [
      "('car1', 'Audi')\n",
      "('car2', 'BMW')\n"
     ]
    }
   ],
   "source": [
    "for x in dic.items():\n",
    "    print(x)"
   ]
  },
  {
   "cell_type": "code",
   "execution_count": 117,
   "id": "09d74acc-91cb-4fab-8235-047f0ba3253b",
   "metadata": {},
   "outputs": [],
   "source": [
    "dic['car3']='Audi 2.0'"
   ]
  },
  {
   "cell_type": "code",
   "execution_count": 118,
   "id": "c8e9bd90-34b9-4bc1-9ca2-a8cbeabdfd3f",
   "metadata": {},
   "outputs": [
    {
     "data": {
      "text/plain": [
       "{'car1': 'Audi', 'car2': 'BMW', 'car3': 'Audi 2.0'}"
      ]
     },
     "execution_count": 118,
     "metadata": {},
     "output_type": "execute_result"
    }
   ],
   "source": [
    "dic"
   ]
  },
  {
   "cell_type": "code",
   "execution_count": 119,
   "id": "865e3b42-0880-4c60-b30a-8044ac58a55a",
   "metadata": {},
   "outputs": [],
   "source": [
    "dic['car1']='Maruti'"
   ]
  },
  {
   "cell_type": "code",
   "execution_count": 120,
   "id": "ff2722fe-1c6c-404c-82ee-ede7d5bed8fd",
   "metadata": {},
   "outputs": [
    {
     "data": {
      "text/plain": [
       "{'car1': 'Maruti', 'car2': 'BMW', 'car3': 'Audi 2.0'}"
      ]
     },
     "execution_count": 120,
     "metadata": {},
     "output_type": "execute_result"
    }
   ],
   "source": [
    "dic"
   ]
  },
  {
   "cell_type": "markdown",
   "id": "898b0a80-3605-4d41-95e6-0ef593c2b409",
   "metadata": {},
   "source": [
    "NESTED_DICTIONARY"
   ]
  },
  {
   "cell_type": "code",
   "execution_count": 121,
   "id": "f197c164-8b9d-4281-aaff-247e7315b2b2",
   "metadata": {},
   "outputs": [],
   "source": [
    "car1_model={'Mercedes':1960}\n",
    "car2_model={'Audi':1970}\n",
    "car3_model={'Maruti':1980}\n",
    "\n",
    "car_type={'car1':car1_model,'car2':car2_model,'car3':car3_model}"
   ]
  },
  {
   "cell_type": "code",
   "execution_count": 122,
   "id": "34c98dfd-ce52-48b2-a9c4-57e877e5f273",
   "metadata": {},
   "outputs": [
    {
     "data": {
      "text/plain": [
       "{'car1': {'Mercedes': 1960}, 'car2': {'Audi': 1970}, 'car3': {'Maruti': 1980}}"
      ]
     },
     "execution_count": 122,
     "metadata": {},
     "output_type": "execute_result"
    }
   ],
   "source": [
    "car_type"
   ]
  },
  {
   "cell_type": "code",
   "execution_count": 124,
   "id": "d0c1b3da-d82e-4d91-8f67-f8a32b650ae1",
   "metadata": {},
   "outputs": [
    {
     "name": "stdout",
     "output_type": "stream",
     "text": [
      "{'Mercedes': 1960}\n"
     ]
    }
   ],
   "source": [
    "print(car_type['car1'])"
   ]
  },
  {
   "cell_type": "code",
   "execution_count": 126,
   "id": "03532c4d-b265-421f-990d-1db4bb687d8f",
   "metadata": {},
   "outputs": [
    {
     "name": "stdout",
     "output_type": "stream",
     "text": [
      "1960\n"
     ]
    }
   ],
   "source": [
    "print(car_type['car1']['Mercedes'])"
   ]
  },
  {
   "cell_type": "markdown",
   "id": "b8de95bc-e78e-4d51-8ebb-c4f5427831f8",
   "metadata": {},
   "source": [
    "TUPLES"
   ]
  },
  {
   "cell_type": "code",
   "execution_count": 127,
   "id": "37c905ee-6433-4f45-95cd-79de48af7491",
   "metadata": {},
   "outputs": [],
   "source": [
    "#create empty tuples\n",
    "\n",
    "tuple1=tuple()"
   ]
  },
  {
   "cell_type": "code",
   "execution_count": 128,
   "id": "2bbf62c8-4fe3-45d5-925a-1853b83c73d9",
   "metadata": {},
   "outputs": [
    {
     "data": {
      "text/plain": [
       "tuple"
      ]
     },
     "execution_count": 128,
     "metadata": {},
     "output_type": "execute_result"
    }
   ],
   "source": [
    "type(tuple1)"
   ]
  },
  {
   "cell_type": "code",
   "execution_count": 132,
   "id": "153b75c3-b6ad-40cb-ab7b-d00b9a83d6d1",
   "metadata": {},
   "outputs": [],
   "source": [
    "tuple1=(\"Krish\",\"Ankur\",\"John\")"
   ]
  },
  {
   "cell_type": "code",
   "execution_count": 133,
   "id": "cc935076-56c7-4418-99b9-6f82c6ab62a5",
   "metadata": {},
   "outputs": [
    {
     "data": {
      "text/plain": [
       "('Krish', 'Ankur', 'John')"
      ]
     },
     "execution_count": 133,
     "metadata": {},
     "output_type": "execute_result"
    }
   ],
   "source": [
    "tuple1\n"
   ]
  },
  {
   "cell_type": "code",
   "execution_count": 134,
   "id": "09a995c5-0aaf-4b40-bc6d-463616ce3bf2",
   "metadata": {},
   "outputs": [
    {
     "data": {
      "text/plain": [
       "'Krish'"
      ]
     },
     "execution_count": 134,
     "metadata": {},
     "output_type": "execute_result"
    }
   ],
   "source": [
    "tuple1[0]"
   ]
  },
  {
   "cell_type": "code",
   "execution_count": 135,
   "id": "09a6b00f-8037-4518-ac6e-6f47f5710394",
   "metadata": {},
   "outputs": [
    {
     "data": {
      "text/plain": [
       "tuple"
      ]
     },
     "execution_count": 135,
     "metadata": {},
     "output_type": "execute_result"
    }
   ],
   "source": [
    "type(tuple1)"
   ]
  },
  {
   "cell_type": "code",
   "execution_count": 137,
   "id": "a497bc9d-7153-4e3b-b667-e629bf46059c",
   "metadata": {},
   "outputs": [
    {
     "ename": "TypeError",
     "evalue": "'type' object does not support item assignment",
     "output_type": "error",
     "traceback": [
      "\u001b[1;31m---------------------------------------------------------------------------\u001b[0m",
      "\u001b[1;31mTypeError\u001b[0m                                 Traceback (most recent call last)",
      "Cell \u001b[1;32mIn[137], line 1\u001b[0m\n\u001b[1;32m----> 1\u001b[0m \u001b[38;5;28;43mtuple\u001b[39;49m\u001b[43m[\u001b[49m\u001b[38;5;241;43m0\u001b[39;49m\u001b[43m]\u001b[49m\u001b[38;5;241m=\u001b[39m\u001b[38;5;124m\"\u001b[39m\u001b[38;5;124mKrish\u001b[39m\u001b[38;5;124m\"\u001b[39m \u001b[38;5;66;03m#no replacement possible\u001b[39;00m\n",
      "\u001b[1;31mTypeError\u001b[0m: 'type' object does not support item assignment"
     ]
    }
   ],
   "source": [
    "tuple[0]=\"Krish\" #no replacement possible"
   ]
  },
  {
   "cell_type": "code",
   "execution_count": 141,
   "id": "a72d6ba4-2f79-4177-acbb-572c0a1f33ab",
   "metadata": {},
   "outputs": [
    {
     "data": {
      "text/plain": [
       "0"
      ]
     },
     "execution_count": 141,
     "metadata": {},
     "output_type": "execute_result"
    }
   ],
   "source": [
    "#inbuilt function\n",
    "tuple1.count(\"Krish\")\n",
    "tuple1.index(\"Krish\")"
   ]
  },
  {
   "cell_type": "code",
   "execution_count": null,
   "id": "fbd21f24-4e3f-4b92-b48e-7e6ddc0f40b6",
   "metadata": {},
   "outputs": [],
   "source": []
  }
 ],
 "metadata": {
  "kernelspec": {
   "display_name": "Python 3 (ipykernel)",
   "language": "python",
   "name": "python3"
  },
  "language_info": {
   "codemirror_mode": {
    "name": "ipython",
    "version": 3
   },
   "file_extension": ".py",
   "mimetype": "text/x-python",
   "name": "python",
   "nbconvert_exporter": "python",
   "pygments_lexer": "ipython3",
   "version": "3.12.3"
  }
 },
 "nbformat": 4,
 "nbformat_minor": 5
}
